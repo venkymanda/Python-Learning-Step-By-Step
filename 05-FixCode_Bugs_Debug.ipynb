{
 "cells": [
  {
   "cell_type": "markdown",
   "metadata": {},
   "source": [
    "## Debugger\n",
    "Lets see how debugger works"
   ]
  },
  {
   "cell_type": "code",
   "execution_count": 4,
   "metadata": {},
   "outputs": [
    {
     "name": "stdout",
     "output_type": "stream",
     "text": [
      "i is 1 and j is 2\n",
      "i is 2 and j is 4\n",
      "i is 3 and j is 6\n"
     ]
    }
   ],
   "source": [
    "for i in range(1, 4):\n",
    "    j = i * 2\n",
    "    print(f\"i is {i} and j is {j}\")\n"
   ]
  },
  {
   "cell_type": "markdown",
   "metadata": {},
   "source": [
    "Now Lets fix some Buggy code\n",
    "\n",
    "Save and run the above script. The expected output is _h_e_l_l_o_, but\n",
    "instead all you see is o_, the letter \"o\" followed by a single underscore."
   ]
  },
  {
   "cell_type": "code",
   "execution_count": 5,
   "metadata": {},
   "outputs": [
    {
     "name": "stdout",
     "output_type": "stream",
     "text": [
      "o_\n"
     ]
    }
   ],
   "source": [
    "# set a Breakpoint and insepct the code\n",
    "def add_underscores(word):\n",
    "    new_word = \"_\"\n",
    "    for i in range(0, len(word)):\n",
    "        new_word = word[i] + \"_\"\n",
    "    return new_word\n",
    "phrase = \"hello\"\n",
    "print(add_underscores(phrase))"
   ]
  },
  {
   "cell_type": "code",
   "execution_count": 1,
   "metadata": {},
   "outputs": [
    {
     "name": "stdout",
     "output_type": "stream",
     "text": [
      "_h_e_l_l_o_\n"
     ]
    }
   ],
   "source": [
    "# After debugging you find that issue is with new_word assignment\n",
    "# lets fix it \n",
    "def add_underscores_afterdebug(word):\n",
    "    new_word = \"_\"\n",
    "    for i in range(0, len(word)):\n",
    "        new_word = new_word+word[i] + \"_\"\n",
    "    return new_word\n",
    "phrase = \"hello\"\n",
    "print(add_underscores_afterdebug(phrase))"
   ]
  }
 ],
 "metadata": {
  "kernelspec": {
   "display_name": "Python 3",
   "language": "python",
   "name": "python3"
  },
  "language_info": {
   "codemirror_mode": {
    "name": "ipython",
    "version": 3
   },
   "file_extension": ".py",
   "mimetype": "text/x-python",
   "name": "python",
   "nbconvert_exporter": "python",
   "pygments_lexer": "ipython3",
   "version": "3.11.5"
  }
 },
 "nbformat": 4,
 "nbformat_minor": 2
}

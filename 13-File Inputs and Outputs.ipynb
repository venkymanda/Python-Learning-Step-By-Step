{
 "cells": [
  {
   "cell_type": "markdown",
   "metadata": {},
   "source": [
    "## File Inputs Outputs"
   ]
  },
  {
   "cell_type": "code",
   "execution_count": 1,
   "metadata": {},
   "outputs": [],
   "source": [
    "import pathlib"
   ]
  },
  {
   "cell_type": "code",
   "execution_count": 2,
   "metadata": {},
   "outputs": [],
   "source": [
    "path = pathlib.Path(\"C:/Users/David/Desktop/hello.txt\")"
   ]
  },
  {
   "cell_type": "code",
   "execution_count": 3,
   "metadata": {},
   "outputs": [],
   "source": [
    "# pass as raw strings \n",
    "path = pathlib.Path(r\"C:\\Users\\David\\Desktop\\hello.txt\")\n",
    "# this will help to avoid any escape sequences"
   ]
  },
  {
   "cell_type": "markdown",
   "metadata": {},
   "source": [
    "To ensure that file system resources are cleaned up even if a program\n",
    "crashes, you can open a file in a with statement. The pattern for using\n",
    "the with statement looks like this:"
   ]
  },
  {
   "cell_type": "code",
   "execution_count": 2,
   "metadata": {},
   "outputs": [
    {
     "name": "stdout",
     "output_type": "stream",
     "text": [
      "C:\\Users\\VenkataNarayana\n"
     ]
    }
   ],
   "source": [
    "temperature_readings = [68, 65, 68, 70, 74, 72]\n",
    "# write temperatures to a file\n",
    "from pathlib import Path\n",
    "file_path = Path.home() / \"temperatures.txt\"\n",
    "with file_path.open(mode=\"w\", encoding=\"utf-8\") as file:\n",
    "        file.write(str(temperature_readings[0]))\n",
    "        for temp in temperature_readings[1:]:\n",
    "            file.write(f\",{temp}\")\n",
    "print(Path.home())"
   ]
  }
 ],
 "metadata": {
  "kernelspec": {
   "display_name": "Python 3",
   "language": "python",
   "name": "python3"
  },
  "language_info": {
   "codemirror_mode": {
    "name": "ipython",
    "version": 3
   },
   "file_extension": ".py",
   "mimetype": "text/x-python",
   "name": "python",
   "nbconvert_exporter": "python",
   "pygments_lexer": "ipython3",
   "version": "3.11.5"
  }
 },
 "nbformat": 4,
 "nbformat_minor": 2
}

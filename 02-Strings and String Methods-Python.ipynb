{
 "cells": [
  {
   "cell_type": "markdown",
   "metadata": {},
   "source": [
    "# Started Learning Python\n",
    "lets dive into Learning Basics"
   ]
  },
  {
   "cell_type": "code",
   "execution_count": 1,
   "metadata": {},
   "outputs": [
    {
     "name": "stdout",
     "output_type": "stream",
     "text": [
      "Hello world\n"
     ]
    }
   ],
   "source": [
    "print(\"Hello world\")"
   ]
  },
  {
   "cell_type": "markdown",
   "metadata": {},
   "source": [
    "What would it take to write a program that accesses an external website, downloads the content to your app in memory, then displays a subsection of that content to the user? Let’s try\n",
    "that experiment with Python 3 with the help of the requests package\n",
    "(which needs to be installed—more on that in chapter 12):\n"
   ]
  },
  {
   "cell_type": "code",
   "execution_count": 2,
   "metadata": {},
   "outputs": [
    {
     "name": "stdout",
     "output_type": "stream",
     "text": [
      "al Python\">\n",
      "    <meta name=\"description\" content=\"Learn Python online: Python tutorials f\n"
     ]
    }
   ],
   "source": [
    "import requests\n",
    "resp = requests.get(\"https://realpython.com\")\n",
    "html = resp.text\n",
    "print(html[205:294])"
   ]
  },
  {
   "cell_type": "code",
   "execution_count": 4,
   "metadata": {},
   "outputs": [
    {
     "name": "stdout",
     "output_type": "stream",
     "text": [
      "Hello, world\n"
     ]
    },
    {
     "data": {
      "text/plain": [
       "2"
      ]
     },
     "execution_count": 4,
     "metadata": {},
     "output_type": "execute_result"
    }
   ],
   "source": [
    "phrase = \"Hello, world\" # using Variables\n",
    "print(phrase) # This is an in-line comment.\n",
    "# This is a block comment.\n",
    "phrase\n",
    "x=2\n",
    "x"
   ]
  },
  {
   "cell_type": "markdown",
   "metadata": {},
   "source": [
    "In this case, phrase is assigned the string \"Hello, world\", so the output\n",
    "is surrounded with single quotes to indicate that phrase is a string.\n",
    "On the other hand, when you print() a variable, Python displays a\n",
    "more human-readable representation of the variable’s value. F"
   ]
  },
  {
   "cell_type": "code",
   "execution_count": 5,
   "metadata": {},
   "outputs": [
    {
     "ename": "NameError",
     "evalue": "name 'test' is not defined",
     "output_type": "error",
     "traceback": [
      "\u001b[1;31m---------------------------------------------------------------------------\u001b[0m",
      "\u001b[1;31mNameError\u001b[0m                                 Traceback (most recent call last)",
      "\u001b[1;32mc:\\Users\\VenkataNarayana\\OneDrive - Acumant Technologies Private Limited\\Documents\\AI Learning\\Python\\Python-Learning-Step-By-Step\\01-Introduction-to-Python.ipynb Cell 7\u001b[0m line \u001b[0;36m2\n\u001b[0;32m      <a href='vscode-notebook-cell:/c%3A/Users/VenkataNarayana/OneDrive%20-%20Acumant%20Technologies%20Private%20Limited/Documents/AI%20Learning/Python/Python-Learning-Step-By-Step/01-Introduction-to-Python.ipynb#X30sZmlsZQ%3D%3D?line=0'>1</a>\u001b[0m testerror\u001b[39m=\u001b[39m\u001b[39m\"\u001b[39m\u001b[39merror\u001b[39m\u001b[39m\"\u001b[39m\n\u001b[1;32m----> <a href='vscode-notebook-cell:/c%3A/Users/VenkataNarayana/OneDrive%20-%20Acumant%20Technologies%20Private%20Limited/Documents/AI%20Learning/Python/Python-Learning-Step-By-Step/01-Introduction-to-Python.ipynb#X30sZmlsZQ%3D%3D?line=1'>2</a>\u001b[0m \u001b[39mprint\u001b[39m(test)\n",
      "\u001b[1;31mNameError\u001b[0m: name 'test' is not defined"
     ]
    }
   ],
   "source": [
    "testerror=\"error\"\n",
    "print(test)"
   ]
  },
  {
   "cell_type": "markdown",
   "metadata": {},
   "source": [
    "You were introduced to three concepts:\n",
    "1. Variables give names to values in your code using the assignment\n",
    "operator (=)\n",
    "2. Errors, such as syntax errors and run-time errors, are raised\n",
    "whenever Python can’t execute your code. They are displayed in\n",
    "IDLE’s interactive window in the form of a traceback.\n",
    "3. Comments are lines of code that don’t get executed and serve as\n",
    "documentation for yourself and other programmers that need to\n",
    "read your code."
   ]
  }
 ],
 "metadata": {
  "kernelspec": {
   "display_name": "Python 3",
   "language": "python",
   "name": "python3"
  },
  "language_info": {
   "codemirror_mode": {
    "name": "ipython",
    "version": 3
   },
   "file_extension": ".py",
   "mimetype": "text/x-python",
   "name": "python",
   "nbconvert_exporter": "python",
   "pygments_lexer": "ipython3",
   "version": "3.11.5"
  },
  "orig_nbformat": 4
 },
 "nbformat": 4,
 "nbformat_minor": 2
}

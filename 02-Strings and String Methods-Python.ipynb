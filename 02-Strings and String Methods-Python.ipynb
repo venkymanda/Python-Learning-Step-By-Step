{
 "cells": [
  {
   "cell_type": "markdown",
   "metadata": {},
   "source": [
    "# Strings and String Methods"
   ]
  },
  {
   "cell_type": "code",
   "execution_count": 15,
   "metadata": {},
   "outputs": [
    {
     "name": "stdout",
     "output_type": "stream",
     "text": [
      "Hello Learner\n"
     ]
    }
   ],
   "source": [
    "print(\"Hello Learner\")"
   ]
  },
  {
   "cell_type": "markdown",
   "metadata": {},
   "source": [
    "In this chapter, you will learn how to:\n",
    " - Manipulate strings with string methods\n",
    " - Work with user input\n",
    " - Deal with strings of numbers\n",
    " - Format strings for printin"
   ]
  },
  {
   "cell_type": "code",
   "execution_count": 1,
   "metadata": {},
   "outputs": [
    {
     "data": {
      "text/plain": [
       "str"
      ]
     },
     "execution_count": 1,
     "metadata": {},
     "output_type": "execute_result"
    }
   ],
   "source": [
    "type(\"Hello, world\")"
   ]
  },
  {
   "cell_type": "markdown",
   "metadata": {},
   "source": [
    "### String Literals\n",
    "\n",
    " - Length of String using len()\n",
    " \n",
    "Whenever you create a string by surrounding text with quotation\n",
    "marks, the string is called a string literal."
   ]
  },
  {
   "cell_type": "code",
   "execution_count": 2,
   "metadata": {},
   "outputs": [],
   "source": [
    "string1 = 'Hello, world'\n",
    "string2 = \"1234\""
   ]
  },
  {
   "cell_type": "code",
   "execution_count": 3,
   "metadata": {},
   "outputs": [
    {
     "data": {
      "text/plain": [
       "3"
      ]
     },
     "execution_count": 3,
     "metadata": {},
     "output_type": "execute_result"
    }
   ],
   "source": [
    "letters = \"abc\"\n",
    "num_letters = len(letters)\n",
    "num_letters"
   ]
  },
  {
   "cell_type": "markdown",
   "metadata": {},
   "source": [
    "#### DocStrings or triple quoted strings"
   ]
  },
  {
   "cell_type": "code",
   "execution_count": 5,
   "metadata": {},
   "outputs": [
    {
     "name": "stdout",
     "output_type": "stream",
     "text": [
      "An example of a\n",
      "            string that spans across multiple lines\n",
      "                that also preserves whitespace.\n"
     ]
    }
   ],
   "source": [
    "print(\"\"\"An example of a\n",
    "            string that spans across multiple lines\n",
    "                that also preserves whitespace.\"\"\")"
   ]
  },
  {
   "cell_type": "markdown",
   "metadata": {},
   "source": [
    "They\n",
    "are used to document code. You’ll often find them at the top\n",
    "of a .py with a description of the code’s purpose. They are also\n",
    "used to document custom function"
   ]
  },
  {
   "cell_type": "markdown",
   "metadata": {},
   "source": [
    "### Concatenation, Indexing, and Slicing"
   ]
  },
  {
   "cell_type": "code",
   "execution_count": 13,
   "metadata": {},
   "outputs": [
    {
     "name": "stdout",
     "output_type": "stream",
     "text": [
      "abracadabra\n",
      "p\n",
      "e\n",
      "app\n",
      "apple\n",
      " pie\n",
      "apple pie\n"
     ]
    }
   ],
   "source": [
    "#String Concatenation\n",
    "string1 = \"abra\"\n",
    "string2 = \"cadabra\"\n",
    "magic_string = string1 + string2\n",
    "print(magic_string)\n",
    "\n",
    "# String Indexing\n",
    "flavor = \"apple pie\"\n",
    "print(flavor[1])\n",
    "print(flavor[-1]) # Supports negative indices\n",
    "\n",
    "# String Slicing\n",
    "print(flavor[0:3])\n",
    "\n",
    "print(flavor[:5]) # if you omit first index its assumed to start from zero\n",
    "\n",
    "print(flavor[5:]) # similarly for 2nd index it will fetch till end\n",
    "print(flavor[:]) # complete \n"
   ]
  },
  {
   "cell_type": "markdown",
   "metadata": {},
   "source": [
    "### Strings are Immutable\n"
   ]
  },
  {
   "cell_type": "code",
   "execution_count": 14,
   "metadata": {},
   "outputs": [
    {
     "ename": "TypeError",
     "evalue": "'str' object does not support item assignment",
     "output_type": "error",
     "traceback": [
      "\u001b[1;31m---------------------------------------------------------------------------\u001b[0m",
      "\u001b[1;31mTypeError\u001b[0m                                 Traceback (most recent call last)",
      "\u001b[1;32mc:\\Users\\VenkataNarayana\\OneDrive - Acumant Technologies Private Limited\\Documents\\AI Learning\\Python\\Python-Learning-Step-By-Step\\02-Strings and String Methods-Python.ipynb Cell 14\u001b[0m line \u001b[0;36m2\n\u001b[0;32m      <a href='vscode-notebook-cell:/c%3A/Users/VenkataNarayana/OneDrive%20-%20Acumant%20Technologies%20Private%20Limited/Documents/AI%20Learning/Python/Python-Learning-Step-By-Step/02-Strings%20and%20String%20Methods-Python.ipynb#X23sZmlsZQ%3D%3D?line=0'>1</a>\u001b[0m word \u001b[39m=\u001b[39m \u001b[39m\"\u001b[39m\u001b[39mgoal\u001b[39m\u001b[39m\"\u001b[39m\n\u001b[1;32m----> <a href='vscode-notebook-cell:/c%3A/Users/VenkataNarayana/OneDrive%20-%20Acumant%20Technologies%20Private%20Limited/Documents/AI%20Learning/Python/Python-Learning-Step-By-Step/02-Strings%20and%20String%20Methods-Python.ipynb#X23sZmlsZQ%3D%3D?line=1'>2</a>\u001b[0m word[\u001b[39m0\u001b[39;49m] \u001b[39m=\u001b[39m \u001b[39m\"\u001b[39m\u001b[39mf\u001b[39m\u001b[39m\"\u001b[39m\n",
      "\u001b[1;31mTypeError\u001b[0m: 'str' object does not support item assignment"
     ]
    }
   ],
   "source": [
    "word = \"goal\"\n",
    "word[0] = \"f\""
   ]
  },
  {
   "cell_type": "markdown",
   "metadata": {},
   "source": [
    "## String Methods\n",
    " - Convert a string to upper or lower case\n",
    " - Remove whitespace from string\n",
    " - Determine if a string begins and ends with certain characters"
   ]
  },
  {
   "cell_type": "code",
   "execution_count": 19,
   "metadata": {},
   "outputs": [
    {
     "name": "stdout",
     "output_type": "stream",
     "text": [
      "15\n"
     ]
    }
   ],
   "source": [
    "name=\"Jean-luc Picard\"\n",
    "name.lower() # String Casing\n",
    "name.upper()\n",
    "print(len(name)) # length of string\n"
   ]
  },
  {
   "cell_type": "markdown",
   "metadata": {},
   "source": [
    "There are three string methods that you can use to remove whitespace\n",
    "from a string:\n",
    "1. .rstrip()\n",
    "2. .lstrip()\n",
    "3. .strip()\n",
    ".rstrip() removes whitespace from the right side of a string:"
   ]
  },
  {
   "cell_type": "code",
   "execution_count": 21,
   "metadata": {},
   "outputs": [
    {
     "data": {
      "text/plain": [
       "True"
      ]
     },
     "execution_count": 21,
     "metadata": {},
     "output_type": "execute_result"
    }
   ],
   "source": [
    "starship = \"Enterprise\"\n",
    "starship.startswith(\"E\") # Starts with a String literal results True or False"
   ]
  },
  {
   "cell_type": "markdown",
   "metadata": {},
   "source": [
    "## User Input"
   ]
  },
  {
   "cell_type": "code",
   "execution_count": 24,
   "metadata": {},
   "outputs": [
    {
     "name": "stdout",
     "output_type": "stream",
     "text": [
      "You said: Venkat\n"
     ]
    }
   ],
   "source": [
    "prompt = \"Hey, what's up? \"\n",
    "user_input = input(prompt)\n",
    "print(\"You said:\", user_input)\n",
    "\n"
   ]
  },
  {
   "cell_type": "code",
   "execution_count": 1,
   "metadata": {},
   "outputs": [
    {
     "name": "stdout",
     "output_type": "stream",
     "text": [
      "22\n"
     ]
    }
   ],
   "source": [
    "num = input(\"Enter a number to be doubled: \")\n",
    "doubled_num = num * 2\n",
    "print(doubled_num) # User Input always returns as string\n"
   ]
  },
  {
   "cell_type": "markdown",
   "metadata": {},
   "source": [
    "## Strings to Numbers\n",
    "\n",
    "To perform arithmetic on numbers that are contained in a string, you\n",
    "must first convert them from a string type to a number type. There\n",
    "are two ways to do this: int() and float()."
   ]
  },
  {
   "cell_type": "code",
   "execution_count": 26,
   "metadata": {},
   "outputs": [
    {
     "name": "stdout",
     "output_type": "stream",
     "text": [
      "10.0\n"
     ]
    }
   ],
   "source": [
    "num = input(\"Enter a number to be doubled: \")\n",
    "doubled_num = float(num) * 2\n",
    "print(doubled_num)"
   ]
  },
  {
   "cell_type": "markdown",
   "metadata": {},
   "source": [
    "## Numbers to Strings"
   ]
  },
  {
   "cell_type": "code",
   "execution_count": 27,
   "metadata": {},
   "outputs": [
    {
     "data": {
      "text/plain": [
       "'Only 5 pancakes left.'"
      ]
     },
     "execution_count": 27,
     "metadata": {},
     "output_type": "execute_result"
    }
   ],
   "source": [
    "total_pancakes = 10\n",
    "pancakes_eaten = 5\n",
    "\"Only \" + str(total_pancakes - pancakes_eaten) + \" pancakes left.\" # str() function is used to convert to string\n"
   ]
  },
  {
   "cell_type": "markdown",
   "metadata": {},
   "source": [
    "## F Strings\n",
    "\n",
    " - The string literal starts with the letter f before the opening quota\u0002tion mark\n",
    " -  Variable names surrounded by curly braces ({ and }) are replaced\n",
    "with their corresponding values without using str()"
   ]
  },
  {
   "cell_type": "code",
   "execution_count": 29,
   "metadata": {},
   "outputs": [
    {
     "name": "stdout",
     "output_type": "stream",
     "text": [
      "5 times 8 is 40\n"
     ]
    }
   ],
   "source": [
    "n=5\n",
    "m=8\n",
    "print(f\"{n} times {m} is {n*m}\")"
   ]
  },
  {
   "cell_type": "markdown",
   "metadata": {},
   "source": [
    "#### Find String in a String\n"
   ]
  },
  {
   "cell_type": "code",
   "execution_count": 33,
   "metadata": {},
   "outputs": [
    {
     "data": {
      "text/plain": [
       "4"
      ]
     },
     "execution_count": 33,
     "metadata": {},
     "output_type": "execute_result"
    }
   ],
   "source": [
    "phrase = \"the surprise is in here somewhere\"\n",
    "\"\"\"\n",
    "it always finds First instance of a substring if multiple substrings are present\n",
    "\"\"\"\n",
    "phrase.find(\"surprise\") # Returns Index if it finds else -1 \n"
   ]
  }
 ],
 "metadata": {
  "kernelspec": {
   "display_name": "Python 3",
   "language": "python",
   "name": "python3"
  },
  "language_info": {
   "codemirror_mode": {
    "name": "ipython",
    "version": 3
   },
   "file_extension": ".py",
   "mimetype": "text/x-python",
   "name": "python",
   "nbconvert_exporter": "python",
   "pygments_lexer": "ipython3",
   "version": "3.11.5"
  },
  "orig_nbformat": 4
 },
 "nbformat": 4,
 "nbformat_minor": 2
}

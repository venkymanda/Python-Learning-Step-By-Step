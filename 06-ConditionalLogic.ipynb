{
 "cells": [
  {
   "cell_type": "markdown",
   "metadata": {},
   "source": [
    "In this chapter, you will learn how to:\n",
    "-  Compare the values of two or more variables\n",
    "-  Write if statements to control the flow of your programs\n",
    "-  Handle errors with try and except\n",
    "-  Apply conditional logic to create simple simulation"
   ]
  },
  {
   "cell_type": "code",
   "execution_count": 1,
   "metadata": {},
   "outputs": [
    {
     "data": {
      "text/plain": [
       "False"
      ]
     },
     "execution_count": 1,
     "metadata": {},
     "output_type": "execute_result"
    }
   ],
   "source": [
    "1 <= 1\n",
    "1 != 1\n",
    "1 != 2\n",
    "\"good\" != \"bad\"\n",
    "\"good\" != \"Good\"\n",
    "123 == \"123\""
   ]
  },
  {
   "cell_type": "markdown",
   "metadata": {},
   "source": [
    "## If Statement"
   ]
  },
  {
   "cell_type": "code",
   "execution_count": 3,
   "metadata": {},
   "outputs": [
    {
     "name": "stdout",
     "output_type": "stream",
     "text": [
      "2 and 2 is 4\n"
     ]
    }
   ],
   "source": [
    "if 2 + 2 == 4:\n",
    "    \"\"\"Since Condition is true it enters the loop else it wont\"\"\"\n",
    "    print(\"2 and 2 is 4\")"
   ]
  },
  {
   "cell_type": "markdown",
   "metadata": {},
   "source": [
    "## Else Statment"
   ]
  },
  {
   "cell_type": "code",
   "execution_count": 5,
   "metadata": {},
   "outputs": [
    {
     "name": "stdout",
     "output_type": "stream",
     "text": [
      "You did not pass the class :(\n",
      "Thank you for attending.\n"
     ]
    },
    {
     "data": {
      "text/plain": [
       "'\\nElse Block code is executed when Condition Fails\\n'"
      ]
     },
     "execution_count": 5,
     "metadata": {},
     "output_type": "execute_result"
    }
   ],
   "source": [
    "grade = 40\n",
    "if grade >= 70:\n",
    "    print(\"You passed the class!\")\n",
    "else:\n",
    "    print(\"You did not pass the class :(\")\n",
    "print(\"Thank you for attending.\")\n",
    "\n",
    "\"\"\"\n",
    "Else Block code is executed when Condition Fails\n",
    "\"\"\""
   ]
  },
  {
   "cell_type": "markdown",
   "metadata": {},
   "source": [
    "## Elif Statement"
   ]
  },
  {
   "cell_type": "code",
   "execution_count": 6,
   "metadata": {},
   "outputs": [
    {
     "name": "stdout",
     "output_type": "stream",
     "text": [
      "You passed the class with a B.\n",
      "Thanks for attending.\n"
     ]
    }
   ],
   "source": [
    "grade = 85 # 1\n",
    "if grade >= 90: # 2\n",
    "    print(\"You passed the class with a A.\")\n",
    "elif grade >= 80: # 3\n",
    "    print(\"You passed the class with a B.\")\n",
    "elif grade >= 70: # 4\n",
    "    print(\"You passed the class with a C.\")\n",
    "else: # 5\n",
    "    print(\"You did not pass the class :(\")\n",
    "print(\"Thanks for attending.\") "
   ]
  },
  {
   "cell_type": "markdown",
   "metadata": {},
   "source": [
    "## Nested If Statements"
   ]
  },
  {
   "cell_type": "code",
   "execution_count": 8,
   "metadata": {},
   "outputs": [
    {
     "name": "stdout",
     "output_type": "stream",
     "text": [
      "Player 1 wins.\n"
     ]
    }
   ],
   "source": [
    "\"\"\"\n",
    "This function determines the winner of a sports game based on the scores of two players. It handles two sports: basketball and golf.\n",
    "\n",
    "Inputs:\n",
    "- sport (string): The sport for which the scores are being entered.\n",
    "- p1_score (integer): The score of player 1.\n",
    "- p2_score (integer): The score of player 2.\n",
    "\n",
    "Outputs:\n",
    "- The output depends on the sport and the scores entered. It can be one of the following:\n",
    "  - \"The game is a draw.\"\n",
    "  - \"Player 1 wins.\"\n",
    "  - \"Player 2 wins.\"\n",
    "  - \"Unknown sport.\"\n",
    "\n",
    "Example Usage:\n",
    "```python\n",
    "Enter a sport: basketball\n",
    "Enter player 1 score: 80\n",
    "Enter player 2 score: 90\n",
    "Player 2 wins.\n",
    "```\n",
    "\"\"\"\n",
    "\n",
    "sport = input(\"Enter a sport: \")\n",
    "p1_score = int(input(\"Enter player 1 score: \"))\n",
    "p2_score = int(input(\"Enter player 2 score: \"))\n",
    "# 1\n",
    "if sport.lower() == \"basketball\":\n",
    "    if p1_score == p2_score:\n",
    "        print(\"The game is a draw.\")\n",
    "    elif p1_score > p2_score:\n",
    "        print(\"Player 1 wins.\")\n",
    "    else:\n",
    "        print(\"Player 2 wins.\")\n",
    "# 2\n",
    "elif sport.lower() == \"golf\":\n",
    "    if p1_score == p2_score:\n",
    "        print(\"The game is a draw.\")\n",
    "    elif p1_score < p2_score:\n",
    "        print(\"Player 1 wins.\")\n",
    "    else:\n",
    "        print(\"Player 2 wins.\")\n",
    "# 3\n",
    "else:\n",
    "    print(\"Unknown sport\")\n"
   ]
  },
  {
   "cell_type": "code",
   "execution_count": 9,
   "metadata": {},
   "outputs": [
    {
     "name": "stdout",
     "output_type": "stream",
     "text": [
      "Player 1 wins.\n"
     ]
    }
   ],
   "source": [
    "# Much simpler consice code\n",
    "\n",
    "if p1_score == p2_score:\n",
    "    print(\"The game is a draw.\")\n",
    "elif (sport.lower() == \"basketball\") or (sport.lower() == \"golf\"):\n",
    "    sport = sport.lower()\n",
    "    p1_wins_basketball = (sport == \"basketball\") and (p1_score > p2_score)\n",
    "    p1_wins_golf = (sport == \"golf\") and (p1_score < p2_score)\n",
    "    p1_wins = p1_wins_basketball or p1_wins_golf\n",
    "    if p1_wins:\n",
    "        print(\"Player 1 wins.\")\n",
    "    else:\n",
    "        print(\"Player 2 wins.\")\n",
    "else:\n",
    "    print(\"Unknown sport\")\n"
   ]
  },
  {
   "cell_type": "code",
   "execution_count": 11,
   "metadata": {},
   "outputs": [
    {
     "name": "stdout",
     "output_type": "stream",
     "text": [
      "6 is not the factor of 10\n"
     ]
    }
   ],
   "source": [
    "#Find Whether a number is factor or not\n",
    "\n",
    "originalnumber=int(input(\"Enter the number:\"))\n",
    "factor=int(input(\"Enter the Factor number:\"))\n",
    "\n",
    "if(originalnumber%factor==0):\n",
    "    print(f\"{factor} is the factor of {originalnumber}\")\n",
    "else:\n",
    "    print(f\"{factor} is not the factor of {originalnumber}\")"
   ]
  },
  {
   "cell_type": "code",
   "execution_count": 14,
   "metadata": {},
   "outputs": [
    {
     "name": "stdout",
     "output_type": "stream",
     "text": [
      "1 is the factor of 45\n",
      "3 is the factor of 45\n",
      "5 is the factor of 45\n",
      "9 is the factor of 45\n",
      "15 is the factor of 45\n",
      "45 is the factor of 45\n"
     ]
    }
   ],
   "source": [
    "#Find all Factors of a number\n",
    "\n",
    "originalnumber=int(input(\"Enter the number:\"))\n",
    "for i in range(1,originalnumber+1):\n",
    "    if(originalnumber%i==0):\n",
    "        print(f\"{i} is the factor of {originalnumber}\")\n",
    "    "
   ]
  },
  {
   "cell_type": "markdown",
   "metadata": {},
   "source": [
    "## Break and Continue"
   ]
  },
  {
   "cell_type": "code",
   "execution_count": 15,
   "metadata": {},
   "outputs": [
    {
     "name": "stdout",
     "output_type": "stream",
     "text": [
      "0\n",
      "1\n",
      "Finished with n = 2\n"
     ]
    }
   ],
   "source": [
    "for n in range(0, 4):\n",
    "    if n == 2:\n",
    "        break\n",
    "    print(n)\n",
    "print(f\"Finished with n = {n}\")\n",
    "\n",
    "\"\"\"The break keyword tells Python to literally break out of a loop. That is,\n",
    "the loop stops completely and any code after the loop is executed.\"\"\"\n"
   ]
  },
  {
   "cell_type": "code",
   "execution_count": 16,
   "metadata": {},
   "outputs": [
    {
     "name": "stdout",
     "output_type": "stream",
     "text": [
      "0\n",
      "1\n",
      "3\n",
      "Finished with i = 3\n"
     ]
    },
    {
     "data": {
      "text/plain": [
       "'The continue keyword is used to skip any remaining code in the loop\\nbody and continue on to the next iteration.'"
      ]
     },
     "execution_count": 16,
     "metadata": {},
     "output_type": "execute_result"
    }
   ],
   "source": [
    "for i in range(0, 4):\n",
    "    if i == 2:\n",
    "        continue\n",
    "    print(i)\n",
    "print(f\"Finished with i = {i}\")\n",
    "\n",
    "\"\"\"The continue keyword is used to skip any remaining code in the loop\n",
    "body and continue on to the next iteration.\"\"\""
   ]
  }
 ],
 "metadata": {
  "kernelspec": {
   "display_name": "Python 3",
   "language": "python",
   "name": "python3"
  },
  "language_info": {
   "codemirror_mode": {
    "name": "ipython",
    "version": 3
   },
   "file_extension": ".py",
   "mimetype": "text/x-python",
   "name": "python",
   "nbconvert_exporter": "python",
   "pygments_lexer": "ipython3",
   "version": "3.11.5"
  }
 },
 "nbformat": 4,
 "nbformat_minor": 2
}

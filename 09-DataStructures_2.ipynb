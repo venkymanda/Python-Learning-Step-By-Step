{
 "cells": [
  {
   "cell_type": "markdown",
   "metadata": {},
   "source": [
    "## List Methods"
   ]
  },
  {
   "cell_type": "code",
   "execution_count": 1,
   "metadata": {},
   "outputs": [
    {
     "data": {
      "text/plain": [
       "['red', 'orange', 'yellow', 'green', 'blue']"
      ]
     },
     "execution_count": 1,
     "metadata": {},
     "output_type": "execute_result"
    }
   ],
   "source": [
    "colors = [\"red\", \"yellow\", \"green\", \"blue\"]\n",
    "# Insert \"orange\" into the second position\n",
    "colors.insert(1, \"orange\")\n",
    "\"\"\"\n",
    "notice that when the value \"orange\" is inserted at the index 1, the\n",
    "value \"yellow\" and all following values are shifted to the right.\n",
    "\"\"\"\n",
    "colors"
   ]
  },
  {
   "cell_type": "code",
   "execution_count": 2,
   "metadata": {},
   "outputs": [
    {
     "name": "stdout",
     "output_type": "stream",
     "text": [
      "green\n",
      "['red', 'orange', 'yellow', 'blue']\n"
     ]
    }
   ],
   "source": [
    "color = colors.pop(3)\n",
    "# removes an element from List using pop()\n",
    "print(color)\n",
    "print(colors)"
   ]
  },
  {
   "cell_type": "code",
   "execution_count": 3,
   "metadata": {},
   "outputs": [
    {
     "data": {
      "text/plain": [
       "['red', 'orange', 'yellow', 'blue', 'indigo']"
      ]
     },
     "execution_count": 3,
     "metadata": {},
     "output_type": "execute_result"
    }
   ],
   "source": [
    "colors.append(\"indigo\")\n",
    "# adds a element at end of list\n",
    "colors\n",
    "\n"
   ]
  },
  {
   "cell_type": "code",
   "execution_count": 4,
   "metadata": {},
   "outputs": [
    {
     "data": {
      "text/plain": [
       "['red', 'orange', 'yellow', 'blue', 'indigo', 'violet', 'ultraviolet']"
      ]
     },
     "execution_count": 4,
     "metadata": {},
     "output_type": "execute_result"
    }
   ],
   "source": [
    "colors.extend([\"violet\", \"ultraviolet\"])\n",
    "# to add multiple elements to a list extend()\n",
    "\"\"\"\n",
    ".extend() takes a single parameter that must be an iterable type. The\n",
    "elements of the iterable are appended to the list in the same order that\n",
    "they appear in the argument passed to .extend().\n",
    "\"\"\"\n",
    "colors"
   ]
  },
  {
   "cell_type": "code",
   "execution_count": null,
   "metadata": {},
   "outputs": [],
   "source": [
    "\"\"\"\n",
    "List Method         Description\n",
    ".insert(i, x)       Insert the value x at index i\n",
    ".append(x)          Insert the value x at the end of the list\n",
    "\n",
    ".extend(iterable)   Insert all the values of iterable at the end of the list, in order\n",
    ".pop(i)             Remove and return the element at index i\n",
    "\"\"\""
   ]
  },
  {
   "cell_type": "code",
   "execution_count": 7,
   "metadata": {},
   "outputs": [
    {
     "data": {
      "text/plain": [
       "[1, 4, 9, 16, 25]"
      ]
     },
     "execution_count": 7,
     "metadata": {},
     "output_type": "execute_result"
    }
   ],
   "source": [
    "#List Comprehension\n",
    "numbers = (1, 2, 3, 4, 5)\n",
    "\n",
    "#short hand for loop\n",
    "squares = [num**2 for num in numbers]\n",
    "squares"
   ]
  },
  {
   "cell_type": "markdown",
   "metadata": {},
   "source": [
    "Now that you have learned what tuples and lists are, how to create\n",
    "them, and some basic operations with them, let’s look at three more\n",
    "concepts:\n",
    "1. Nesting\n",
    "2. Copying\n",
    "3. Sorting"
   ]
  },
  {
   "cell_type": "code",
   "execution_count": null,
   "metadata": {},
   "outputs": [],
   "source": [
    "animals = [\"lion\", \"tiger\", \"frumious Bandersnatch\"]\n",
    "# Use slicing to assign a List to another list, dont use irect assignment\n",
    "#large_cats=animals as if you change a value in on of them it will change in othet list also\n",
    "large_cats = animals[:]\n",
    "large_cats.append(\"leopard\")\n",
    "large_cats\n",
    "\n",
    "# when dealing with nested lists slicing may not work\n",
    "# check out how to do it in https://realpython.com/copying-python-objects/"
   ]
  },
  {
   "cell_type": "code",
   "execution_count": 8,
   "metadata": {},
   "outputs": [
    {
     "data": {
      "text/plain": [
       "['blue', 'green', 'red', 'yellow']"
      ]
     },
     "execution_count": 8,
     "metadata": {},
     "output_type": "execute_result"
    }
   ],
   "source": [
    "# Lists of strings are sorted alphabetically\n",
    "colors = [\"red\", \"yellow\", \"green\", \"blue\"]\n",
    "colors.sort()\n",
    "colors"
   ]
  },
  {
   "cell_type": "code",
   "execution_count": 11,
   "metadata": {},
   "outputs": [
    {
     "name": "stdout",
     "output_type": "stream",
     "text": [
      "['red', 'blue', 'green', 'yellow']\n",
      "[(-9, 0), (4, 1), (1, 2)]\n"
     ]
    }
   ],
   "source": [
    "# you can pass functions or custom functions as key to sort\n",
    "colors = [\"red\", \"yellow\", \"green\", \"blue\"]\n",
    "colors.sort(key=len)\n",
    "print(colors)\n",
    "\n",
    "def get_second_element(item):\n",
    "     return item[1]\n",
    "\n",
    "items = [(4, 1), (1, 2), (-9, 0)]\n",
    "items.sort(key=get_second_element)\n",
    "print(items)\n"
   ]
  },
  {
   "cell_type": "code",
   "execution_count": null,
   "metadata": {},
   "outputs": [],
   "source": [
    "\n",
    "\"\"\"\n",
    "Define a function, enrollment_stats(), that takes, as an input, a list of\n",
    "lists where each individual list contains three elements: (a) the name\n",
    "of a university, (b) the total number of enrolled students, and (c) the\n",
    "annual tuition fees.\n",
    "enrollment_stats() should return two lists: the first containing all of\n",
    "the student enrollment values and the second containing all of the\n",
    "tuition fees.\n",
    "Next, define a mean() and a median() function. Both functions should\n",
    "take a single list as an argument and return the mean and median of\n",
    "the values in each list.\n",
    "\n",
    "\n",
    "\"\"\""
   ]
  },
  {
   "cell_type": "code",
   "execution_count": 16,
   "metadata": {},
   "outputs": [
    {
     "name": "stdout",
     "output_type": "stream",
     "text": [
      "Total students:77285\n",
      "Total tuition: $ 271905\n",
      "Student mean: 11040.714285714286\n",
      "Student median: 10566\n",
      "Tution mean: 38843.57142857143\n",
      "Tution median: 39849\n"
     ]
    }
   ],
   "source": [
    "#Challenge 1\n",
    "universities = [\n",
    "['California Institute of Technology', 2175, 37704],\n",
    "['Harvard', 19627, 39849],\n",
    "['Massachusetts Institute of Technology', 10566, 40732],\n",
    "['Princeton', 7802, 37000],\n",
    "['Rice', 5879, 35551],\n",
    "['Stanford', 19535, 40569],\n",
    "['Yale', 11701, 40500]\n",
    "]\n",
    "\n",
    "\n",
    "def enrollment_stats(university):\n",
    "    totaltutionfees=0\n",
    "    totalstudents=0\n",
    "    for i in range(len(university)):\n",
    "        totaltutionfees=totaltutionfees+university[i][2]\n",
    "        totalstudents=totalstudents+university[i][1]\n",
    "\n",
    "    return (totalstudents,totaltutionfees)\n",
    "\n",
    "\n",
    "\n",
    "# Python\n",
    "def getLists(university):\n",
    "\n",
    "    studentdata=[]\n",
    "    tutiondata=[]\n",
    "\n",
    "    for i in range(len(university)):\n",
    "        studentdata.append(university[i][1])\n",
    "        tutiondata.append(university[i][2])\n",
    "\n",
    "    return [studentdata,tutiondata]\n",
    "\n",
    "\n",
    "\n",
    "# Python\n",
    "def mean(data):\n",
    "    return sum(data) / len(data)\n",
    "\n",
    "# Python\n",
    "def median(data):\n",
    "\n",
    "    n = len(data)\n",
    "    data.sort()\n",
    "    if n % 2 == 0:\n",
    "        return (data[n//2 - 1] + data[n//2]) / 2\n",
    "    else:\n",
    "        return data[n//2]\n",
    "    \n",
    "\n",
    "result=enrollment_stats(universities)\n",
    "\n",
    "listofdata=getLists(universities)\n",
    "\n",
    "print(f\"Total students:{result[0]}\")\n",
    "print(f\"Total tuition: $ {result[1]}\")\n",
    "\n",
    "print(f\"Student mean: {mean(listofdata[0])}\")\n",
    "print(f\"Student median: {median(listofdata[0])}\")\n",
    "\n",
    "\n",
    "print(f\"Tution mean: {mean(listofdata[1])}\")\n",
    "print(f\"Tution median: {median(listofdata[1])}\")\n"
   ]
  },
  {
   "cell_type": "code",
   "execution_count": 18,
   "metadata": {},
   "outputs": [
    {
     "name": "stdout",
     "output_type": "stream",
     "text": [
      "A balding gorilla\n",
      "\n",
      "A balding gorilla jingles over the furry horse\n",
      "curiously, the gorilla kicks\n",
      "the horse curdles like a glistening judge\n"
     ]
    }
   ],
   "source": [
    "#Challenge 2\n",
    "\n",
    "# 9.5 - Challenge: Wax Poetic\n",
    "# Solution to challenge\n",
    "\n",
    "\n",
    "# Generate a random poem based on a set structure\n",
    "\n",
    "import random\n",
    "\n",
    "noun = [\n",
    "    \"fossil\",\n",
    "    \"horse\",\n",
    "    \"aardvark\",\n",
    "    \"judge\",\n",
    "    \"chef\",\n",
    "    \"mango\",\n",
    "    \"extrovert\",\n",
    "    \"gorilla\",\n",
    "]\n",
    "verb = [\n",
    "    \"kicks\",\n",
    "    \"jingles\",\n",
    "    \"bounces\",\n",
    "    \"slurps\",\n",
    "    \"meows\",\n",
    "    \"explodes\",\n",
    "    \"curdles\",\n",
    "]\n",
    "adjective = [\n",
    "    \"furry\",\n",
    "    \"balding\",\n",
    "    \"incredulous\",\n",
    "    \"fragrant\",\n",
    "    \"exuberant\",\n",
    "    \"glistening\",\n",
    "]\n",
    "preposition = [\n",
    "    \"against\",\n",
    "    \"after\",\n",
    "    \"into\",\n",
    "    \"beneath\",\n",
    "    \"upon\",\n",
    "    \"for\",\n",
    "    \"in\",\n",
    "    \"like\",\n",
    "    \"over\",\n",
    "    \"within\",\n",
    "]\n",
    "adverb = [\n",
    "    \"curiously\",\n",
    "    \"extravagantly\",\n",
    "    \"tantalizingly\",\n",
    "    \"furiously\",\n",
    "    \"sensuously\",\n",
    "]\n",
    "\n",
    "\n",
    "def make_poem():\n",
    "    \"\"\"Create a randomly generated poem, returned as a multi-line string.\"\"\"\n",
    "    # Pull three nouns randomly\n",
    "    n1 = random.choice(noun)\n",
    "    n2 = random.choice(noun)\n",
    "    n3 = random.choice(noun)\n",
    "    # Make sure that all the nouns are different\n",
    "    while n1 == n2:\n",
    "        n2 = random.choice(noun)\n",
    "    while n1 == n3 or n2 == n3:\n",
    "        n3 = random.choice(noun)\n",
    "\n",
    "    # Pull three different verbs\n",
    "    v1 = random.choice(verb)\n",
    "    v2 = random.choice(verb)\n",
    "    v3 = random.choice(verb)\n",
    "    while v1 == v2:\n",
    "        v2 = random.choice(verb)\n",
    "    while v1 == v3 or v2 == v3:\n",
    "        v3 = random.choice(verb)\n",
    "\n",
    "    # Pull three different adjectives\n",
    "    adj1 = random.choice(adjective)\n",
    "    adj2 = random.choice(adjective)\n",
    "    adj3 = random.choice(adjective)\n",
    "    while adj1 == adj2:\n",
    "        adj2 = random.choice(adjective)\n",
    "    while adj1 == adj3 or adj2 == adj3:\n",
    "        adj3 = random.choice(adjective)\n",
    "\n",
    "    # Pull two different prepositions\n",
    "    prep1 = random.choice(preposition)\n",
    "    prep2 = random.choice(preposition)\n",
    "    while prep1 == prep2:\n",
    "        prep2 = random.choice(preposition)\n",
    "\n",
    "    # Pull one adverb\n",
    "    adv1 = random.choice(adverb)\n",
    "\n",
    "    if \"aeiou\".find(adj1[0]) != -1:  # First letter is a vowel\n",
    "        article = \"An\"\n",
    "    else:\n",
    "        article = \"A\"\n",
    "\n",
    "    # Create the poem\n",
    "    poem = (\n",
    "        f\"{article} {adj1} {n1}\\n\\n\"\n",
    "        f\"{article} {adj1} {n1} {v1} {prep1} the {adj2} {n2}\\n\"\n",
    "        f\"{adv1}, the {n1} {v2}\\n\"\n",
    "        f\"the {n2} {v3} {prep2} a {adj3} {n3}\"\n",
    "    )\n",
    "\n",
    "    return poem\n",
    "\n",
    "\n",
    "poem = make_poem()\n",
    "print(poem)"
   ]
  }
 ],
 "metadata": {
  "kernelspec": {
   "display_name": "Python 3",
   "language": "python",
   "name": "python3"
  },
  "language_info": {
   "codemirror_mode": {
    "name": "ipython",
    "version": 3
   },
   "file_extension": ".py",
   "mimetype": "text/x-python",
   "name": "python",
   "nbconvert_exporter": "python",
   "pygments_lexer": "ipython3",
   "version": "3.11.5"
  }
 },
 "nbformat": 4,
 "nbformat_minor": 2
}

{
 "cells": [
  {
   "cell_type": "markdown",
   "metadata": {},
   "source": [
    "To prevent the program from crashing you can use the try and except<br>\n",
    "keywords. Let’s look at an example:\n"
   ]
  },
  {
   "cell_type": "code",
   "execution_count": 1,
   "metadata": {},
   "outputs": [
    {
     "name": "stdout",
     "output_type": "stream",
     "text": [
      "That was not an integer\n"
     ]
    }
   ],
   "source": [
    "try:\n",
    "    number = int(input(\"Enter an integer: \"))\n",
    "except ValueError:\n",
    "    print(\"That was not an integer\")"
   ]
  },
  {
   "cell_type": "code",
   "execution_count": 4,
   "metadata": {},
   "outputs": [
    {
     "name": "stdout",
     "output_type": "stream",
     "text": [
      "encountered a problem\n"
     ]
    }
   ],
   "source": [
    "# Handle Multiple execptions\n",
    "def divide(num1, num2):\n",
    "    try:\n",
    "        print(num1 / num2)\n",
    "    except (TypeError, ZeroDivisionError):\n",
    "        print(\"encountered a problem\")\n",
    "\n",
    "\n",
    "\n",
    "def divide(num1, num2):\n",
    "    try:\n",
    "        print(num1 / num2)\n",
    "    except TypeError:\n",
    "        print(\"encountered a problem\")\n",
    "    except ZeroDivisionError:\n",
    "        print(\"Zero Division not supported\")\n",
    "divide(4,'gy')"
   ]
  },
  {
   "cell_type": "code",
   "execution_count": 5,
   "metadata": {},
   "outputs": [],
   "source": [
    "#Catch all exceptions without specific type\n",
    "try:\n",
    "    # Do lots of hazardous things that might break\n",
    "    hi=5\n",
    "except:\n",
    "    print(\"Something bad happened!\")\n"
   ]
  },
  {
   "cell_type": "code",
   "execution_count": 20,
   "metadata": {},
   "outputs": [
    {
     "name": "stdout",
     "output_type": "stream",
     "text": [
      "The ratio of heads to tails is 1.015316404675534\n"
     ]
    }
   ],
   "source": [
    "#Random Module\n",
    "\n",
    "import random\n",
    "def coin_flip():\n",
    "    \"\"\"Randomly return 'heads' or 'tails'.\"\"\"\n",
    "    if random.randint(0, 1) == 0:\n",
    "        return \"heads\"\n",
    "    else:\n",
    "        return \"tails\"\n",
    "\n",
    "coin_flip()\n",
    "\n",
    "# First initialize the tallies to 0\n",
    "heads_tally = 0\n",
    "tails_tally = 0\n",
    "for trial in range(10_000):\n",
    "    if coin_flip() == \"heads\":\n",
    "        heads_tally = heads_tally + 1\n",
    "    else:\n",
    "        tails_tally = tails_tally + 1\n",
    "\n",
    "ratio = heads_tally / tails_tally\n",
    "print(f\"The ratio of heads to tails is {ratio}\")\n"
   ]
  },
  {
   "cell_type": "code",
   "execution_count": 29,
   "metadata": {},
   "outputs": [
    {
     "name": "stdout",
     "output_type": "stream",
     "text": [
      "The ratio of heads to tails is 0.43122942607700016\n"
     ]
    }
   ],
   "source": [
    "#Unfair Coin\n",
    "\n",
    "def unfair_coin_flip(probability_of_tails):\n",
    "    if random.random() < probability_of_tails:\n",
    "        return \"tails\"\n",
    "    else:\n",
    "        return \"heads\"\n",
    "    \n",
    "\n",
    "heads_tally = 0\n",
    "tails_tally= 0\n",
    "for trial in range(10_000):\n",
    "    if unfair_coin_flip(.7) == \"heads\":\n",
    "        heads_tally = heads_tally + 1\n",
    "    else:\n",
    "        tails_tally = tails_tally + 1\n",
    "ratio = heads_tally / tails_tally\n",
    "print(f\"The ratio of heads to tails is {ratio}\")"
   ]
  },
  {
   "cell_type": "markdown",
   "metadata": {},
   "source": [
    "In this section you learned about the randint() and random() functions\n",
    "<br>in the random module and saw how to use conditional logic and loops to\n",
    "write some coin toss simulations"
   ]
  },
  {
   "cell_type": "markdown",
   "metadata": {},
   "source": [
    "Suppose you flip a fair coin repeatedly until it lands on both heads\n",
    "and tails at least once each. In other words, after the first flip, you\n",
    "continue to flip the coin until it lands on something different.\n",
    "Doing this generates a sequence of heads and tails. For example, the\n",
    "first time you do this experiment, the sequence might be heads, heads,\n",
    "then tails.\n",
    "On average, how many flips are needed for the sequence to contain\n",
    "both heads and tails?\n",
    "Write a simulation that runs 10,000 trials of the experiment and\n",
    "prints the average number of flips per trial."
   ]
  },
  {
   "cell_type": "code",
   "execution_count": 35,
   "metadata": {},
   "outputs": [
    {
     "name": "stdout",
     "output_type": "stream",
     "text": [
      "The average number of flips per trial is 3.02\n"
     ]
    }
   ],
   "source": [
    "#Challenge-1\n",
    "\n",
    "# Import the random module\n",
    "import random\n",
    "\n",
    "# Define a function to simulate one trial of the experiment\n",
    "def coin_flip():\n",
    "  # Initialize the number of flips and the outcome\n",
    "  flips = 0\n",
    "  outcome = \"\"\n",
    "  # Flip the coin until both heads and tails appear\n",
    "  while \"H\" not in outcome or \"T\" not in outcome:\n",
    "    # Increment the number of flips\n",
    "    flips += 1\n",
    "    # Generate a random number between 0 and 1\n",
    "    rand = random.random()\n",
    "    # If the number is less than 0.5, append \"H\" to the outcome\n",
    "    if rand < 0.5:\n",
    "      outcome += \"H\"\n",
    "    # Otherwise, append \"T\" to the outcome\n",
    "    else:\n",
    "      outcome += \"T\"\n",
    "  # Return the number of flips\n",
    "  return flips\n",
    "\n",
    "# Define a function to run n trials of the experiment and print the average number of flips\n",
    "def simulate(n):\n",
    "  # Initialize the total number of flips\n",
    "  total = 0\n",
    "  # Loop through n trials\n",
    "  for i in range(n):\n",
    "    # Add the number of flips from each trial to the total\n",
    "    total += coin_flip()\n",
    "  # Calculate the average number of flips\n",
    "  average = total / n\n",
    "  # Print the average number of flips\n",
    "  print(f\"The average number of flips per trial is {average}\")\n",
    "\n",
    "# Run 10,000 trials of the experiment\n",
    "simulate(10000)\n"
   ]
  },
  {
   "cell_type": "code",
   "execution_count": 34,
   "metadata": {},
   "outputs": [
    {
     "name": "stdout",
     "output_type": "stream",
     "text": [
      "The average number of flips per trial is 2.9965.\n"
     ]
    }
   ],
   "source": [
    "# 8.8 - Challenge: Simulate a Coin Toss Experiment\n",
    "# Solution to challenge\n",
    "\n",
    "\n",
    "# Simulate the results of a series of coin tosses and track the results\n",
    "\n",
    "# This one is tricky to structure correctly. Try writing out the logic before\n",
    "# you start coding. Some additional pointers if you're stuck:\n",
    "# 1. You will need to use a `for` loop over a range of trials.\n",
    "# 2. For each trial, first you should check the outcome of the first flip.\n",
    "# 3. Make sure you add the first flip to the total number of flips.\n",
    "# 4. After the first toss, you'll need another loop to keep flipping while you\n",
    "#    get the same result as the first flip.\n",
    "\n",
    "import random\n",
    "\n",
    "\n",
    "def coin_flip():\n",
    "    \"\"\"Randomly return 'heads' or 'tails'.\"\"\"\n",
    "    if random.randint(0, 1) == 0:\n",
    "        return \"heads\"\n",
    "    else:\n",
    "        return \"tails\"\n",
    "\n",
    "\n",
    "flips = 0\n",
    "num_trials = 10_000\n",
    "\n",
    "for trial in range(num_trials):\n",
    "    if coin_flip() == \"heads\":\n",
    "        # Increment the number of flips by 1\n",
    "        flips = flips + 1\n",
    "        while coin_flip() == \"heads\":\n",
    "            # Keep incrementing the total number of flips\n",
    "            # until \"tails\" is returned by coin_flip()\n",
    "            flips = flips + 1\n",
    "        # Once coin_flip() return \"tails\", the loop will exit,\n",
    "        # but we need to add one more to flips to track the\n",
    "        # last flip that generated \"tails\"\n",
    "        flips = flips + 1\n",
    "    else:\n",
    "        # coin_flip() returned \"tails\" on the first flip.\n",
    "        # Increment the number of flips by 1\n",
    "        flips = flips + 1\n",
    "        while coin_flip() == \"tails\":\n",
    "            # Keep incrementing the total number of flips\n",
    "            # until \"heads\" is returned by coin_flip()\n",
    "            flips = flips + 1\n",
    "        # Once coin_flip() returns \"heads\", the loop will exit,\n",
    "        # but we need to add one more to flips to track the\n",
    "        # last flip that generated \"heads\"\n",
    "        flips = flips + 1\n",
    "\n",
    "avg_flips_per_trial = flips / num_trials\n",
    "print(f\"The average number of flips per trial is {avg_flips_per_trial}.\")"
   ]
  },
  {
   "cell_type": "markdown",
   "metadata": {},
   "source": [
    "Suppose two candidates, Candidate A and Candidate B, are running\n",
    "for mayor in a city with three voting regions. The most recent polls\n",
    "show that Candidate A has the following chances for winning in each\n",
    "region:\n",
    "• Region 1: 87% chance of winning\n",
    "• Region 2: 65% chance of winning\n",
    "227\n",
    "8.10. Summary and Additional Resources\n",
    "• Region 3: 17% chance of winning\n",
    "Write a program that simulates the election 10,000 times and prints\n",
    "the percentage of where Candidate A wins.\n",
    "To keep things simple, assume that a candidate wins the election is\n",
    "they win in at least two of the three regions."
   ]
  },
  {
   "cell_type": "code",
   "execution_count": 126,
   "metadata": {},
   "outputs": [
    {
     "name": "stdout",
     "output_type": "stream",
     "text": [
      "Average Winning percentage for Candidate A on trying 10000 times is 62.73\n"
     ]
    }
   ],
   "source": [
    "import random\n",
    "\n",
    "def unfair_election_result_perregion(probability_of_result):\n",
    "    if random.random() < probability_of_result:\n",
    "        return 1\n",
    "    else:\n",
    "        return 0\n",
    "    \n",
    "\n",
    "def candidateAelection():\n",
    "    win=0\n",
    "    for i in range(1):\n",
    "        region1=unfair_election_result_perregion(0.87)\n",
    "        region2=unfair_election_result_perregion(0.65) \n",
    "        region3=unfair_election_result_perregion(0.17)\n",
    "\n",
    "        if(region1+region2+region3>=2):\n",
    "            #print(\"Candidate 1 Wins\")\n",
    "            win=1\n",
    "        else:\n",
    "            #print(\"Candidate 1 Loses\")\n",
    "            win=0\n",
    "    return win\n",
    "\n",
    "def getcandidateAPercentage(numberoftry):\n",
    "    totalwins=0\n",
    "    for i in range(numberoftry):\n",
    "        totalwins=candidateAelection()+totalwins\n",
    "    \n",
    "    averagepercentage=(totalwins/numberoftry) *100\n",
    "\n",
    "    print(f\"Average Winning percentage for Candidate A on trying {numberoftry} times is {averagepercentage}\")\n",
    "\n",
    "\n",
    "getcandidateAPercentage(10000)\n",
    "\n"
   ]
  },
  {
   "cell_type": "markdown",
   "metadata": {},
   "source": [
    "## Summary\n",
    "You learned about the try...except pattern to handle errors that may\n",
    "occur during run-time.<br> This is an important construct that allows\n",
    "your programs to handle the unexpected gracefully,<br> and keep users\n",
    "of your programs happy that the program doesn’t crash.<br>\n",
    "Finally, you applied the techniques you learned in this chapter and\n",
    "used the random module to build some simple simulations"
   ]
  }
 ],
 "metadata": {
  "kernelspec": {
   "display_name": "Python 3",
   "language": "python",
   "name": "python3"
  },
  "language_info": {
   "codemirror_mode": {
    "name": "ipython",
    "version": 3
   },
   "file_extension": ".py",
   "mimetype": "text/x-python",
   "name": "python",
   "nbconvert_exporter": "python",
   "pygments_lexer": "ipython3",
   "version": "3.11.5"
  }
 },
 "nbformat": 4,
 "nbformat_minor": 2
}

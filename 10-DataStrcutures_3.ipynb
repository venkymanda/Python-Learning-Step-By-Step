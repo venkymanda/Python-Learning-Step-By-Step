{
 "cells": [
  {
   "cell_type": "markdown",
   "metadata": {},
   "source": [
    "One of the most useful data structures in Python is the dictionary.\n",
    "In this section, you’ll learn what a dictionary is, how dictionaries differ\n",
    "from lists and tuples, and how to define and use dictionaries in your\n",
    "own code."
   ]
  },
  {
   "cell_type": "code",
   "execution_count": null,
   "metadata": {},
   "outputs": [],
   "source": [
    "\"\"\"\n",
    "The key in a key-value pair is a unique name that identifies the value\n",
    "part of the pair. Comparing this to an English dictionary, the key is\n",
    "like the word being defined and the value is like the definition of the\n",
    "word.\n",
    "For example, you could use a dictionary to store names of states and\n",
    "their capitals:\n",
    "           Key             Value\n",
    "        \"California\"    \"Sacramento\"\n",
    "        \"New York\"      \"Albany\"\n",
    "\"\"\""
   ]
  },
  {
   "cell_type": "code",
   "execution_count": 2,
   "metadata": {},
   "outputs": [
    {
     "data": {
      "text/plain": [
       "{'California': 'Sacramento', 'New York': 'Albany', 'Texas': 'Austin'}"
      ]
     },
     "execution_count": 2,
     "metadata": {},
     "output_type": "execute_result"
    }
   ],
   "source": [
    "capitals = {\n",
    "\"California\": \"Sacramento\",\n",
    "\"New York\": \"Albany\",\n",
    "\"Texas\": \"Austin\",\n",
    "}\n",
    "capitals\n",
    "# Creates a Dictionary"
   ]
  },
  {
   "cell_type": "code",
   "execution_count": 3,
   "metadata": {},
   "outputs": [
    {
     "data": {
      "text/plain": [
       "'Austin'"
      ]
     },
     "execution_count": 3,
     "metadata": {},
     "output_type": "execute_result"
    }
   ],
   "source": [
    "#Access using Key\n",
    "capitals[\"Texas\"]"
   ]
  },
  {
   "cell_type": "code",
   "execution_count": 4,
   "metadata": {},
   "outputs": [
    {
     "name": "stdout",
     "output_type": "stream",
     "text": [
      "{'California': 'Sacramento', 'New York': 'Albany', 'Texas': 'Austin', 'Colorado': 'Denver'}\n",
      "{'California': 'Sacramento', 'New York': 'Albany', 'Texas': 'Houston', 'Colorado': 'Denver'}\n",
      "{'California': 'Sacramento', 'New York': 'Albany', 'Colorado': 'Denver'}\n"
     ]
    }
   ],
   "source": [
    "capitals[\"Colorado\"] = \"Denver\"\n",
    "\n",
    "print(capitals)\n",
    "\n",
    "#Each key in a dictionary can only be assigned a single value. If a key\n",
    "#is given a new value, Python just overwrites the old one:\n",
    "capitals[\"Texas\"] = \"Houston\"\n",
    "print(capitals)\n",
    "\n",
    "#remove a Key  Value pair\n",
    "del capitals[\"Texas\"]\n",
    "\n",
    "print(capitals)"
   ]
  },
  {
   "cell_type": "code",
   "execution_count": 6,
   "metadata": {},
   "outputs": [
    {
     "data": {
      "text/plain": [
       "False"
      ]
     },
     "execution_count": 6,
     "metadata": {},
     "output_type": "execute_result"
    }
   ],
   "source": [
    "# Check Value exists or not\n",
    "\"Arizona\" in capitals\n",
    "#It is important to remember that in only checks the existence of keys:"
   ]
  },
  {
   "cell_type": "code",
   "execution_count": 9,
   "metadata": {},
   "outputs": [
    {
     "name": "stdout",
     "output_type": "stream",
     "text": [
      "The capital of California is Sacramento\n",
      "The capital of New York is Albany\n",
      "The capital of Colorado is Denver\n",
      "dict_items([('California', 'Sacramento'), ('New York', 'Albany'), ('Colorado', 'Denver')])\n",
      "The capital of California is Sacramento\n",
      "The capital of New York is Albany\n",
      "The capital of Colorado is Denver\n"
     ]
    }
   ],
   "source": [
    "#Iterate Dict\n",
    "for state in capitals:\n",
    "    print(f\"The capital of {state} is {capitals[state]}\")\n",
    "\n",
    "print(capitals.items())\n",
    "\n",
    "#Better way to Iterate\n",
    "for state, capital in capitals.items():\n",
    "     print(f\"The capital of {state} is {capital}\")"
   ]
  },
  {
   "cell_type": "code",
   "execution_count": null,
   "metadata": {},
   "outputs": [],
   "source": [
    "#Key Can be of differnt Type as well\n",
    "capitals[50] = \"Honolulu\"\n",
    "#But it should be Immutable Type"
   ]
  },
  {
   "cell_type": "code",
   "execution_count": 11,
   "metadata": {},
   "outputs": [
    {
     "data": {
      "text/plain": [
       "'Sacramento'"
      ]
     },
     "execution_count": 11,
     "metadata": {},
     "output_type": "execute_result"
    }
   ],
   "source": [
    "#Nested Dict\n",
    "states ={\n",
    " \"California\": {\n",
    " \"capital\": \"Sacramento\",\n",
    " \"flower\": \"California Poppy\"\n",
    " },\n",
    " \"New York\": {\n",
    " \"capital\": \"Albany\",\n",
    " \"flower\": \"Rose\"\n",
    " },\n",
    " \"Texas\": {\n",
    " \"capital\": \"Austin\",\n",
    " \"flower\": \"Bluebonnet\"\n",
    " }\n",
    "}\n",
    "states[\"California\"][\"capital\"]"
   ]
  },
  {
   "cell_type": "markdown",
   "metadata": {},
   "source": [
    "## Use a list when:\n",
    "- Data has a natural order to it\n",
    "- You will need to update or alter the data during the program\n",
    "- The primary purpose of the data structure is iteration\n",
    "\n",
    "## Use a tuple when:\n",
    "- Data has a natural order to it\n",
    "- You will not need to update or alter the data during the program\n",
    "- The primary purpose of the data structure is iteration\n",
    "## Use a dictionary when:\n",
    "- The data is unordered, or the order does not matter\n",
    "- You will need to update or alter the data during the program\n",
    "- The primary purpose of the data structure is looking up values"
   ]
  },
  {
   "cell_type": "code",
   "execution_count": 13,
   "metadata": {},
   "outputs": [
    {
     "name": "stdout",
     "output_type": "stream",
     "text": [
      "[False, False, False, False, False, False, False, False, False, False, False, False, False, False, False, False, False, False, False, False, False, False, False, False, False, False, False, False, False, False, False, False, False, False, False, False, False, False, False, False, False, False, False, False, False, False, False, False, False, False, False, False, False, False, False, False, False, False, False, False, False, False, False, False, False, False, False, False, False, False, False, False, False, False, False, False, False, False, False, False, False, False, False, False, False, False, False, False, False, False, False, False, False, False, False, False, False, False, False, False, False]\n",
      "[1, 4, 9, 16, 25, 36, 49, 64, 81, 100]\n"
     ]
    }
   ],
   "source": [
    "def get_cats_with_hats(array_of_cats):\n",
    "    cats_with_hats_on = []\n",
    "    # We want to walk around the circle 100 times\n",
    "    for num in range(1, 100 + 1):\n",
    "        # Each time we walk around, we visit 100 cats\n",
    "        for cat in range(1, 100 + 1):\n",
    "            # Determine whether to visit the cat\n",
    "            # Use modulo operator to visit every 2nd, 3rd, 4th,... etc.\n",
    "            if cat % num == 0:\n",
    "                # Remove or add hat depending on\n",
    "                # whether the cat already has one\n",
    "                if array_of_cats[cat] is True:\n",
    "                    array_of_cats[cat] = False\n",
    "                else:\n",
    "                    array_of_cats[cat] = True\n",
    "\n",
    "    # Add all number of each cat with a hat to list\n",
    "    for cat in range(1, 100 + 1):\n",
    "        if array_of_cats[cat] is True:\n",
    "            cats_with_hats_on.append(cat)\n",
    "\n",
    "    # Return the resulting list\n",
    "    return cats_with_hats_on\n",
    "\n",
    "\n",
    "# Cats contains whether each cat already has a hat on,\n",
    "# by default all are set to false since none have been visited\n",
    "cats = [False] * (100 + 1)\n",
    "print(cats)\n",
    "print(get_cats_with_hats(cats))"
   ]
  }
 ],
 "metadata": {
  "kernelspec": {
   "display_name": "Python 3",
   "language": "python",
   "name": "python3"
  },
  "language_info": {
   "codemirror_mode": {
    "name": "ipython",
    "version": 3
   },
   "file_extension": ".py",
   "mimetype": "text/x-python",
   "name": "python",
   "nbconvert_exporter": "python",
   "pygments_lexer": "ipython3",
   "version": "3.11.5"
  }
 },
 "nbformat": 4,
 "nbformat_minor": 2
}

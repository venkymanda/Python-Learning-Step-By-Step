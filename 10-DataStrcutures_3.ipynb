{
 "cells": [
  {
   "cell_type": "markdown",
   "metadata": {},
   "source": [
    "One of the most useful data structures in Python is the dictionary.\n",
    "In this section, you’ll learn what a dictionary is, how dictionaries differ\n",
    "from lists and tuples, and how to define and use dictionaries in your\n",
    "own code."
   ]
  },
  {
   "cell_type": "code",
   "execution_count": null,
   "metadata": {},
   "outputs": [],
   "source": [
    "\"\"\"\n",
    "The key in a key-value pair is a unique name that identifies the value\n",
    "part of the pair. Comparing this to an English dictionary, the key is\n",
    "like the word being defined and the value is like the definition of the\n",
    "word.\n",
    "For example, you could use a dictionary to store names of states and\n",
    "their capitals:\n",
    "           Key             Value\n",
    "        \"California\"    \"Sacramento\"\n",
    "        \"New York\"      \"Albany\"\n",
    "\"\"\""
   ]
  }
 ],
 "metadata": {
  "language_info": {
   "name": "python"
  }
 },
 "nbformat": 4,
 "nbformat_minor": 2
}

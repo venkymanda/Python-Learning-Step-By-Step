{
 "cells": [
  {
   "cell_type": "markdown",
   "metadata": {},
   "source": [
    "## Modules\n",
    " A module is a file containing Python code that can be re-used in other\n",
    "Python code files."
   ]
  },
  {
   "cell_type": "code",
   "execution_count": 2,
   "metadata": {},
   "outputs": [
    {
     "name": "stdout",
     "output_type": "stream",
     "text": [
      "4\n"
     ]
    }
   ],
   "source": [
    "import adder # <-- Add this line\n",
    "# Leave the code below unchanged\n",
    "value = adder.add(2, 2)\n",
    "print(value)\n",
    "\n",
    "# Important thing is when dealing with Jupytnet Notebook, Module file and notebook file should be in same directory\n"
   ]
  },
  {
   "cell_type": "code",
   "execution_count": null,
   "metadata": {},
   "outputs": [],
   "source": [
    "\"\"\"A package is a folder that contains one or more Python modules. It\n",
    "must also contain a special module called __init__.py.\n",
    "\n",
    " Here is an example of a package so that you can see this structure:\n",
    "The __init__.py module doesn’t need to contain any code! It only\n",
    "needs to exist so that Python recognizes the mypackage/ folder as a\n",
    "Python package\"\"\""
   ]
  }
 ],
 "metadata": {
  "kernelspec": {
   "display_name": "Python 3",
   "language": "python",
   "name": "python3"
  },
  "language_info": {
   "codemirror_mode": {
    "name": "ipython",
    "version": 3
   },
   "file_extension": ".py",
   "mimetype": "text/x-python",
   "name": "python",
   "nbconvert_exporter": "python",
   "pygments_lexer": "ipython3",
   "version": "3.11.5"
  }
 },
 "nbformat": 4,
 "nbformat_minor": 2
}

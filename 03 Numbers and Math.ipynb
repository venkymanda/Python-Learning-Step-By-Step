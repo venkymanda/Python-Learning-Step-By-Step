{
 "cells": [
  {
   "cell_type": "markdown",
   "metadata": {},
   "source": [
    "## Numbers and Math\n",
    "In this chapter, you will learn how to:\n",
    " - Work with Python’s three built-in number types: integer, floating point, and complex numbers\n",
    " -  Round numbers to a given number of decimal places\n",
    " - Format and display numbers in strings"
   ]
  },
  {
   "cell_type": "code",
   "execution_count": 1,
   "metadata": {},
   "outputs": [
    {
     "data": {
      "text/plain": [
       "25"
      ]
     },
     "execution_count": 1,
     "metadata": {},
     "output_type": "execute_result"
    }
   ],
   "source": [
    "int(\"25\") # String to Int\n"
   ]
  },
  {
   "cell_type": "code",
   "execution_count": 3,
   "metadata": {},
   "outputs": [
    {
     "data": {
      "text/plain": [
       "1447756665777757777777777777777777777777777777777777777777777777777777777777777777777777777777777777777777777777777777777777777777777777777777777777777777777777777777777777777777777777777777777777777777777777777777777777777777777777"
      ]
     },
     "execution_count": 3,
     "metadata": {},
     "output_type": "execute_result"
    }
   ],
   "source": [
    "# Python Can handle very large numbers\n",
    "1447756665777757777777777777777777777777777777777777777777777777777777777777777777777777777777777777777777777777777777777777777777777777777777777777777777777777777777777777777777777777777777777777777777777777777777777777777777777777"
   ]
  },
  {
   "cell_type": "code",
   "execution_count": 4,
   "metadata": {},
   "outputs": [
    {
     "data": {
      "text/plain": [
       "1.25"
      ]
     },
     "execution_count": 4,
     "metadata": {},
     "output_type": "execute_result"
    }
   ],
   "source": [
    "# Floating Numbers\n",
    "float(\"1.25\")"
   ]
  },
  {
   "cell_type": "code",
   "execution_count": 11,
   "metadata": {},
   "outputs": [
    {
     "data": {
      "text/plain": [
       "0.0001"
      ]
     },
     "execution_count": 11,
     "metadata": {},
     "output_type": "execute_result"
    }
   ],
   "source": [
    "#Exponential Format\n",
    "1e6\n",
    "1e-4"
   ]
  },
  {
   "cell_type": "code",
   "execution_count": 12,
   "metadata": {},
   "outputs": [
    {
     "data": {
      "text/plain": [
       "inf"
      ]
     },
     "execution_count": 12,
     "metadata": {},
     "output_type": "execute_result"
    }
   ],
   "source": [
    "#Max Floating numbers return an Infinity\n",
    "2e400"
   ]
  },
  {
   "cell_type": "code",
   "execution_count": 14,
   "metadata": {},
   "outputs": [
    {
     "name": "stdout",
     "output_type": "stream",
     "text": [
      "3\n",
      "3\n",
      "8\n",
      "2.0\n",
      "1\n",
      "-2\n"
     ]
    }
   ],
   "source": [
    "#Arthimetic Operations\n",
    "print(1+2) #Addition\n",
    "print(4-1) #Subtraction\n",
    "print(4*2) #Multiply\n",
    "print(4/2) # Divison\n",
    "print(4//3) # Inreger Division\n",
    "print(-4//3) # Negative Integer division"
   ]
  },
  {
   "cell_type": "markdown",
   "metadata": {},
   "source": [
    " - The // operator first divides the number on the left by the number on\n",
    "the right and then rounds down to an integer.\n",
    " - For example, -4 // 3 returns -2. First, -4 is divided by 3 to get -1.3333.\n",
    "Then -1.33333 is rounded down to -2. On the other hand, 4 // 3 returns 1"
   ]
  },
  {
   "cell_type": "code",
   "execution_count": 17,
   "metadata": {},
   "outputs": [
    {
     "name": "stdout",
     "output_type": "stream",
     "text": [
      "5.196152422706632\n",
      "2\n",
      "-1\n"
     ]
    }
   ],
   "source": [
    "#Exponents and Modulus\n",
    "print( 3 ** 1.5) # ** is used for exponent\n",
    "print( 5 % 3) # Modulus return remainder value after dividing \n",
    "print ( 5 % -3)"
   ]
  },
  {
   "cell_type": "markdown",
   "metadata": {},
   "source": [
    "These potentially shocking results are really quite well defined for negative numbers.\n",
    "1. To calculate the remainder r of dividing a number x by a number y, Python\n",
    "uses the equation r = x - (y * (x // y))."
   ]
  },
  {
   "cell_type": "code",
   "execution_count": 18,
   "metadata": {},
   "outputs": [
    {
     "data": {
      "text/plain": [
       "-3"
      ]
     },
     "execution_count": 18,
     "metadata": {},
     "output_type": "execute_result"
    }
   ],
   "source": [
    "-1 + (-3*2 + 4) # using order of operation"
   ]
  },
  {
   "cell_type": "code",
   "execution_count": 19,
   "metadata": {},
   "outputs": [
    {
     "data": {
      "text/plain": [
       "0.30000000000000004"
      ]
     },
     "execution_count": 19,
     "metadata": {},
     "output_type": "execute_result"
    }
   ],
   "source": [
    "0.1 + 0.2 #Floating Point representation error when dealing with highly precise applications keeo in kind"
   ]
  },
  {
   "cell_type": "markdown",
   "metadata": {},
   "source": [
    "### Math Functions\n",
    "1. round(), for rounding numbers to some number of decimal places\n",
    "2. abs(), for getting the absolute value of a number\n",
    "3. pow(), for raising a number to some power"
   ]
  },
  {
   "cell_type": "code",
   "execution_count": 1,
   "metadata": {},
   "outputs": [
    {
     "name": "stdout",
     "output_type": "stream",
     "text": [
      "4\n"
     ]
    }
   ],
   "source": [
    "print(round(3.6))"
   ]
  },
  {
   "cell_type": "markdown",
   "metadata": {},
   "source": [
    "round() has some unexpected behavior when the number ends in .5:"
   ]
  },
  {
   "cell_type": "code",
   "execution_count": 16,
   "metadata": {},
   "outputs": [
    {
     "name": "stdout",
     "output_type": "stream",
     "text": [
      "2\n",
      "4\n",
      "4\n",
      "6\n"
     ]
    }
   ],
   "source": [
    "print(round(2.5))\n",
    "print(round(3.5))\n",
    "print(round(4.5))\n",
    "print(round(5.5))"
   ]
  },
  {
   "cell_type": "markdown",
   "metadata": {},
   "source": [
    "When you round ties to even, you first look at the digit one decimal\n",
    "place to the left of the last digit in the tie.<br>If that digit is even, you\n",
    "round down.  If the digit is odd, you round up. That’s why 2.5 rounds\n",
    "down to 2 and 3.5 round up to 4."
   ]
  },
  {
   "cell_type": "code",
   "execution_count": 23,
   "metadata": {},
   "outputs": [
    {
     "data": {
      "text/plain": [
       "2.76"
      ]
     },
     "execution_count": 23,
     "metadata": {},
     "output_type": "execute_result"
    }
   ],
   "source": [
    "round(2.75828, 2) # using argument to indicate how many places you want to round"
   ]
  },
  {
   "cell_type": "code",
   "execution_count": 26,
   "metadata": {},
   "outputs": [
    {
     "name": "stdout",
     "output_type": "stream",
     "text": [
      "5.0\n",
      "8\n"
     ]
    }
   ],
   "source": [
    "#Absolute\n",
    "print(abs(-5.0))\n",
    "# Power of\n",
    "print(pow(2, 3)) # similar to **\n",
    "\n"
   ]
  },
  {
   "cell_type": "markdown",
   "metadata": {},
   "source": [
    "The pow() function\n",
    "accepts an optional third argument that computes the first number\n",
    "raised to the power of the second number and then takes the modulo\n",
    "with respect to the third numbe"
   ]
  },
  {
   "cell_type": "code",
   "execution_count": 27,
   "metadata": {},
   "outputs": [
    {
     "data": {
      "text/plain": [
       "0"
      ]
     },
     "execution_count": 27,
     "metadata": {},
     "output_type": "execute_result"
    }
   ],
   "source": [
    "pow(2, 3, 2) # 2^3=8 , 8%2 =0\n"
   ]
  },
  {
   "cell_type": "code",
   "execution_count": 28,
   "metadata": {},
   "outputs": [
    {
     "data": {
      "text/plain": [
       "False"
      ]
     },
     "execution_count": 28,
     "metadata": {},
     "output_type": "execute_result"
    }
   ],
   "source": [
    "#Number Methods\n",
    "num = 2.5\n",
    "num.is_integer()"
   ]
  },
  {
   "cell_type": "markdown",
   "metadata": {},
   "source": [
    "#### Print numbers in Style using Formats\n"
   ]
  },
  {
   "cell_type": "code",
   "execution_count": 41,
   "metadata": {},
   "outputs": [
    {
     "name": "stdout",
     "output_type": "stream",
     "text": [
      "The value of n is 7.115\n",
      "The value of n is 7.12\n",
      "The value of m is 7.12\n",
      "The value of 0 is 7.13\n",
      "The value of 0 is 7.12\n"
     ]
    }
   ],
   "source": [
    "n = 7.115\n",
    "o=7.125\n",
    "m= 7.126\n",
    "k= 7.124\n",
    "print(f\"The value of n is {n}\") # Normal Format using f strings\n",
    "#The .2 in .2f rounds the number to two decimal places, and the\n",
    "#  f tells to disaply floating point number\n",
    "print(f\"The value of n is {n:.2f}\") # rounding format odd number after 5 so rounded up to 7.12\n",
    "print(f\"The value of m is {o:.2f}\") # even number after 5 so rounded down 7.12\n",
    "print(f\"The value of 0 is {m:.2f}\") # normal rounding to Up \n",
    "print(f\"The value of K is {k:.2f}\") # normal rounding to Down\n",
    "\n"
   ]
  },
  {
   "cell_type": "code",
   "execution_count": 44,
   "metadata": {},
   "outputs": [
    {
     "data": {
      "text/plain": [
       "\"Over 90.0% of Pythonistas say 'Python rocks!'\""
      ]
     },
     "execution_count": 44,
     "metadata": {},
     "output_type": "execute_result"
    }
   ],
   "source": [
    "# Ratio Format\n",
    "ratio = 0.9\n",
    "f\"Over {ratio:.1%} of Pythonistas say 'Python rocks!'\""
   ]
  },
  {
   "cell_type": "markdown",
   "metadata": {},
   "source": [
    "## Complex Numbers\n",
    " - Complex numbers are supported out of the box in Python\n",
    " - Its very useful for doing scentific calculations  "
   ]
  },
  {
   "cell_type": "code",
   "execution_count": 47,
   "metadata": {},
   "outputs": [
    {
     "name": "stdout",
     "output_type": "stream",
     "text": [
      "(5-4j)\n",
      "(-3+8j)\n",
      "(16+2j)\n",
      "(-0.15384615384615388+0.2692307692307692j)\n",
      "1.0\n",
      "2.0\n",
      "(1-2j)\n"
     ]
    }
   ],
   "source": [
    "a = 1 + 2j\n",
    "b=  4 - 6j\n",
    "print(a+b) # addition\n",
    "print(a-b) # subtraction\n",
    "print(a*b) # Multiply\n",
    "print(a/b) # Division as a Engineering student , \n",
    "#they know the value of how frustrating it is to calculate divison manually for this\n",
    "# Python makes it very easy\n",
    "print(a.real)\n",
    "print(a.imag)\n",
    "print(a.conjugate())"
   ]
  },
  {
   "cell_type": "markdown",
   "metadata": {},
   "source": [
    "## Summary of this Chapter\n",
    "\n",
    "1. First you learned how to do basic arithmetic with numbers using the\n",
    "+, -, *, /, and % operators. \n",
    "2. You saw how to write arithmetic expressions, and learned what the best practices are in PEP 8 for formatting\n",
    "arithmetic expressions in your code.\n",
    "\n",
    "3. Then you learned about floating-point numbers and how they may\n",
    "not always be 100% accurate. <br>This limitation has nothing to do with\n",
    "Python. It is a fact of modern-day computing and is due to the way\n",
    "floating-point numbers are stored in a computer’s memory.\n",
    "\n",
    "4. Next you saw how to round numbers to a given decimal place with the\n",
    "round() function, and learned that round() rounds ties to even, which\n",
    "is different from the way most people learned to round numbers in\n",
    "school.\n",
    "\n",
    "5. Finally, you saw numerous ways to format numbers for display."
   ]
  }
 ],
 "metadata": {
  "kernelspec": {
   "display_name": "Python 3",
   "language": "python",
   "name": "python3"
  },
  "language_info": {
   "codemirror_mode": {
    "name": "ipython",
    "version": 3
   },
   "file_extension": ".py",
   "mimetype": "text/x-python",
   "name": "python",
   "nbconvert_exporter": "python",
   "pygments_lexer": "ipython3",
   "version": "3.11.5"
  }
 },
 "nbformat": 4,
 "nbformat_minor": 2
}

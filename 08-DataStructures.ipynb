{
 "cells": [
  {
   "cell_type": "markdown",
   "metadata": {},
   "source": [
    "A data structure models a collection of data, such as a list of numbers, a row in a spreadsheet, or a record in a database.<br> Modeling the\n",
    "data that your program interacts with using the right data structure is\n",
    "often the key to writing simple and effective code.<br>\n",
    "Python has three built-in data structures that are the focus of this\n",
    "chapter: tuples, lists, and dictionaries.<br>\n",
    "In this chapter, you will learn:\n",
    "- How to work with tuples, lists, and dictionaries\n",
    "- What immutability is and why it is important\n",
    "- When to use different data structures"
   ]
  },
  {
   "cell_type": "markdown",
   "metadata": {},
   "source": [
    "## Tuple\n",
    "Tuples are Immutable similar to Strings, meaning we cant change value at Index after creation"
   ]
  },
  {
   "cell_type": "code",
   "execution_count": 1,
   "metadata": {},
   "outputs": [
    {
     "name": "stdout",
     "output_type": "stream",
     "text": [
      "('P', 'y', 't', 'h', 'o', 'n')\n"
     ]
    }
   ],
   "source": [
    "my_first_tuple = (1, 2, 3)\n",
    "\"\"\"\n",
    "tuple literal is a tuple that is written out\n",
    "explicitly as a comma-separated list of values surrounded by parentheses\n",
    "\"\"\"\n",
    "\n",
    "empty_tuple = ()\n",
    "\n",
    "#Built in Tuple method\n",
    "print( tuple(\"Python\"))"
   ]
  },
  {
   "cell_type": "code",
   "execution_count": 4,
   "metadata": {},
   "outputs": [
    {
     "name": "stdout",
     "output_type": "stream",
     "text": [
      "5\n",
      "(5, 7)\n"
     ]
    }
   ],
   "source": [
    "#Similarty between Tuples and string\n",
    "\"\"\"\n",
    "The main difference between strings and tuples is that the elements\n",
    "of tuples can be any kind of value you like, whereas strings can only\n",
    "contain characters.\n",
    "\n",
    "\"\"\" \n",
    "\n",
    "values = (1, 3, 5, 7, 9)\n",
    "print(values[2]) #Indexing\n",
    "\n",
    "# Supports Slicing\n",
    "print(values[2:4])"
   ]
  },
  {
   "cell_type": "code",
   "execution_count": 5,
   "metadata": {},
   "outputs": [
    {
     "name": "stdout",
     "output_type": "stream",
     "text": [
      "A\n",
      "E\n",
      "I\n",
      "O\n",
      "U\n"
     ]
    }
   ],
   "source": [
    "# Tuples are Iterable\n",
    "\n",
    "vowels = (\"a\", \"e\", \"i\", \"o\", \"u\")\n",
    "for vowel in vowels:\n",
    "    print(vowel.upper())\n"
   ]
  },
  {
   "cell_type": "code",
   "execution_count": 8,
   "metadata": {},
   "outputs": [
    {
     "name": "stdout",
     "output_type": "stream",
     "text": [
      "4.21 9.29\n"
     ]
    },
    {
     "data": {
      "text/plain": [
       "'David'"
      ]
     },
     "execution_count": 8,
     "metadata": {},
     "output_type": "execute_result"
    }
   ],
   "source": [
    "#Tuple Packing and Unpacking\n",
    "coordinates = 4.21, 9.29\n",
    "type(coordinates)\n",
    "\n",
    "x, y = coordinates\n",
    "\n",
    "print(x,y)\n",
    "name, age, occupation = \"David\", 34, \"programmer\"\n",
    "name\n",
    "\n",
    "\"\"\"\n",
    "Keep in mind that the number of variable names on the left of the\n",
    "assignment expression must equal the number of values in the tuple\n",
    "on the right hand side, otherwise Python will rase a ValueError:\n",
    "\n",
    "\"\"\""
   ]
  },
  {
   "cell_type": "code",
   "execution_count": 9,
   "metadata": {},
   "outputs": [
    {
     "data": {
      "text/plain": [
       "(5, 1)"
      ]
     },
     "execution_count": 9,
     "metadata": {},
     "output_type": "execute_result"
    }
   ],
   "source": [
    "#Returning Multiple Values from Function\n",
    "def adder_subtractor(num1, num2):\n",
    "     return (num1 + num2, num1 - num2)\n",
    "\n",
    "adder_subtractor(3, 2)"
   ]
  },
  {
   "cell_type": "markdown",
   "metadata": {},
   "source": [
    "## Lists\n",
    "Lists are Mutable  meaning we can change value at an Index"
   ]
  },
  {
   "cell_type": "code",
   "execution_count": 10,
   "metadata": {},
   "outputs": [],
   "source": [
    "\"\"\"\n",
    "A list literal looks almost exactly like a tuple literal, except that it is\n",
    "surrounded with square brackets ([ and ]) instead of parentheses:\n",
    "\n",
    "\"\"\"\n",
    "\n",
    "\n",
    "colors = [\"red\", \"yellow\", \"green\", \"blue\"]\n",
    "\n",
    "\"\"\"\n",
    "Like tuples, lists values are not required to be of the same type. The\n",
    "list literal [\"one\", 2, 3.0] is perfectly valid.\n",
    "\"\"\"\n",
    "\n"
   ]
  },
  {
   "cell_type": "code",
   "execution_count": 13,
   "metadata": {},
   "outputs": [
    {
     "name": "stdout",
     "output_type": "stream",
     "text": [
      "['eggs', 'milk', 'cheese']\n",
      "[1, 2, 3]\n"
     ]
    }
   ],
   "source": [
    "groceries = \"eggs, milk, cheese\"\n",
    "grocery_list = groceries.split(\", \")\n",
    "print(grocery_list)\n",
    "\n",
    "#Split function return a List is another way to create a List\n",
    "\n",
    "print(list((1,2,3))) # using List() function to pass a string or tuple to List"
   ]
  },
  {
   "cell_type": "code",
   "execution_count": 17,
   "metadata": {},
   "outputs": [
    {
     "name": "stdout",
     "output_type": "stream",
     "text": [
      "[1, 2]\n",
      "2\n",
      "4\n"
     ]
    }
   ],
   "source": [
    "#List Operations\n",
    "numbers = [1, 2, 3, 4]\n",
    "numbers[1]\n",
    "print(numbers[:2] )# Create a New List by slicing\n",
    "\n",
    "#Iterate\n",
    "for number in numbers:\n",
    "    if number % 2 == 0:\n",
    "        print(number)"
   ]
  },
  {
   "cell_type": "code",
   "execution_count": 18,
   "metadata": {},
   "outputs": [
    {
     "data": {
      "text/plain": [
       "['burgundy', 'yellow', 'green', 'blue']"
      ]
     },
     "execution_count": 18,
     "metadata": {},
     "output_type": "execute_result"
    }
   ],
   "source": [
    "colors = [\"red\", \"yellow\", \"green\", \"blue\"]\n",
    "colors[0] = \"burgundy\" #assign or change value in a Index\n",
    "colors"
   ]
  }
 ],
 "metadata": {
  "kernelspec": {
   "display_name": "Python 3",
   "language": "python",
   "name": "python3"
  },
  "language_info": {
   "codemirror_mode": {
    "name": "ipython",
    "version": 3
   },
   "file_extension": ".py",
   "mimetype": "text/x-python",
   "name": "python",
   "nbconvert_exporter": "python",
   "pygments_lexer": "ipython3",
   "version": "3.11.5"
  }
 },
 "nbformat": 4,
 "nbformat_minor": 2
}

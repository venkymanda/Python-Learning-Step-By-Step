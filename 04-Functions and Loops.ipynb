{
 "cells": [
  {
   "cell_type": "markdown",
   "metadata": {},
   "source": [
    "# Functions and Loops\n",
    "In this chapter, you will learn:\n",
    "- How to create user-defined functions\n",
    "- How to write for and while loops\n",
    "- What scope is and why it is important"
   ]
  },
  {
   "cell_type": "code",
   "execution_count": 2,
   "metadata": {},
   "outputs": [
    {
     "data": {
      "text/plain": [
       "2652"
      ]
     },
     "execution_count": 2,
     "metadata": {},
     "output_type": "execute_result"
    }
   ],
   "source": [
    "#Simple Function to Multiply\n",
    "def multiply(x, y): # Function signature\n",
    "# Function body\n",
    "    product = x * y\n",
    "    return product\n",
    "\n",
    "# Indentation is very important hen writing Python functions\n",
    "#Calling a User-Deрned Function\n",
    "\n",
    "multiply(34,78)"
   ]
  },
  {
   "cell_type": "markdown",
   "metadata": {},
   "source": [
    "Documenting Functions are important to useful for developers"
   ]
  },
  {
   "cell_type": "code",
   "execution_count": 3,
   "metadata": {},
   "outputs": [
    {
     "name": "stdout",
     "output_type": "stream",
     "text": [
      "Help on function multiply in module __main__:\n",
      "\n",
      "multiply(x, y)\n",
      "    #Simple Function to Multiply\n",
      "\n"
     ]
    }
   ],
   "source": [
    "help(multiply)"
   ]
  },
  {
   "cell_type": "markdown",
   "metadata": {},
   "source": [
    "we will now use docstrings \"\"\" triple quotes to explain whats the function about"
   ]
  },
  {
   "cell_type": "code",
   "execution_count": 5,
   "metadata": {},
   "outputs": [
    {
     "name": "stdout",
     "output_type": "stream",
     "text": [
      "Help on function multiply in module __main__:\n",
      "\n",
      "multiply(x, y)\n",
      "    Return the product of two numbers x and y.\n",
      "\n"
     ]
    }
   ],
   "source": [
    "def multiply(x, y):\n",
    "    \"\"\"Return the product of two numbers x and y.\"\"\"\n",
    "    product = x * y\n",
    "    return product\n",
    "\n",
    "help(multiply)"
   ]
  },
  {
   "cell_type": "markdown",
   "metadata": {},
   "source": [
    "Now lets create 2 simple functions which will do Temperature conversion\n",
    "1. convert_cel_to_far() which takes one float parameter representing\n",
    "degrees Celsius and returns a float representing the same temperature in degrees Fahrenheit using the following formula: <br>\n",
    "F = C * 9/5 + 32\n",
    "\n",
    "2. convert_far_to_cel() which take one float parameter representing\n",
    "degrees Fahrenheit and returns a float representing the same temperature in degrees Celsius using the following formula:<br>\n",
    "C = (F - 32) * 5/9"
   ]
  },
  {
   "cell_type": "code",
   "execution_count": 10,
   "metadata": {},
   "outputs": [
    {
     "name": "stdout",
     "output_type": "stream",
     "text": [
      "Temperature in Fahrenheit is 97.24\n",
      "Temperature in Celsius is 36.24444444444444\n"
     ]
    }
   ],
   "source": [
    "def convert_cel_to_far(cel):\n",
    "     \"\"\"Converts Celsius to fahrenheit\"\"\"\n",
    "     far=(cel * (9/5) + 31)\n",
    "     return far\n",
    "\n",
    "\n",
    "print(f'Temperature in Fahrenheit is {convert_cel_to_far(36.8)}')\n",
    "\n",
    "def convert_far_cel(far):\n",
    "     \"\"\"Converts  Fahrenheit to Celsius\"\"\"\n",
    "     cel=(far-32) * 5/9\n",
    "     return cel\n",
    "\n",
    "print(f'Temperature in Celsius is {convert_far_cel(97.24)}')\n",
    "     \n",
    "\n",
    "\n",
    "    "
   ]
  },
  {
   "cell_type": "markdown",
   "metadata": {},
   "source": [
    "## Loops\n",
    " - While\n",
    " - For\n",
    " - Nested Loops"
   ]
  },
  {
   "cell_type": "code",
   "execution_count": 1,
   "metadata": {},
   "outputs": [
    {
     "name": "stdout",
     "output_type": "stream",
     "text": [
      "1\n",
      "2\n",
      "3\n",
      "4\n"
     ]
    }
   ],
   "source": [
    "#While Loop\n",
    "n=1\n",
    "while n < 5: # Make sure you dont create infinite loop where condition is always true\n",
    "    # Some times Infinite loops is what you may need but in general avoid them\n",
    "    # Else While will keep on executing\n",
    "    print(n)\n",
    "    n = n + 1"
   ]
  },
  {
   "cell_type": "markdown",
   "metadata": {},
   "source": [
    "while loops repeat a section of code while some condition is true.\n",
    "There are two parts to every while loop:\n",
    "1. The while statement starts with the while keyword, followed by a\n",
    "test condition, and ends with a colon (:).\n",
    "2. The loop body contains the code that gets repeated at each step\n",
    "of the loop. Each line is indented four spaces."
   ]
  },
  {
   "cell_type": "code",
   "execution_count": 2,
   "metadata": {},
   "outputs": [
    {
     "name": "stdout",
     "output_type": "stream",
     "text": [
      "P\n",
      "y\n",
      "t\n",
      "h\n",
      "o\n",
      "n\n"
     ]
    }
   ],
   "source": [
    "# For Loop\n",
    "for letter in \"Python\":\n",
    "    print(letter)"
   ]
  },
  {
   "cell_type": "markdown",
   "metadata": {},
   "source": [
    "A for loop executes a section of code once for each item in a collection\n",
    "of items. The number of times that the code is executed is determined\n",
    "by the number of items in the collection.\n",
    "Like its while counterpart, the for loop has two main parts:\n",
    "1. The for statement begins with the for keyword, followed by a\n",
    "membership expression, and ends in a colon (:).\n",
    "2. The loop body contains the code to be executed at each step of\n",
    "the loop, and is indented four spaces"
   ]
  },
  {
   "cell_type": "code",
   "execution_count": 5,
   "metadata": {},
   "outputs": [
    {
     "name": "stdout",
     "output_type": "stream",
     "text": [
      "Python\n",
      "Python\n",
      "Python\n",
      "100\n",
      "121\n",
      "144\n",
      "169\n",
      "196\n",
      "225\n",
      "256\n",
      "289\n",
      "324\n",
      "361\n"
     ]
    }
   ],
   "source": [
    "# To Execute a Loop a fixed amout of time\n",
    "for n in range(3):\n",
    "    print(\"Python\")\n",
    "    #Range() is useful\n",
    "\n",
    "\"\"\"range(3) returns the range of integers starting with 0 and\n",
    "up to, but not including, 3. That is, range(3) is the range of numbers 0,\n",
    "1, and 2.\n",
    "\"\"\"\n",
    "\"\"\"When Python enters the body of the  for loop, the variable n is\n",
    "assigned the value 0 and its incremented till 3 but not includes 3 \"\"\"\n",
    "\n",
    "#suppose lets make n=5\n",
    "for n in range(10, 20):\n",
    "    print(n * n)\n",
    "\n"
   ]
  },
  {
   "cell_type": "code",
   "execution_count": 6,
   "metadata": {},
   "outputs": [
    {
     "name": "stdout",
     "output_type": "stream",
     "text": [
      "n = 1 and j = 4\n",
      "n = 1 and j = 5\n",
      "n = 1 and j = 6\n",
      "n = 2 and j = 4\n",
      "n = 2 and j = 5\n",
      "n = 2 and j = 6\n",
      "n = 3 and j = 4\n",
      "n = 3 and j = 5\n",
      "n = 3 and j = 6\n"
     ]
    }
   ],
   "source": [
    "#Nested Loop\n",
    "for n in range(1, 4):\n",
    "    for j in range(4, 7):\n",
    "        print(f\"n = {n} and j = {j}\")"
   ]
  },
  {
   "cell_type": "markdown",
   "metadata": {},
   "source": [
    "range(start, stop, step)\n",
    "\n",
    "Parameter :\n",
    "\n",
    "1. start: [ optional ] start value of the sequence\n",
    "2. stop: next value after the end value of the sequence\n",
    "3. step: [ optional ] integer value, denoting the difference between any two numbers in the sequence"
   ]
  },
  {
   "cell_type": "code",
   "execution_count": 15,
   "metadata": {},
   "outputs": [
    {
     "name": "stdout",
     "output_type": "stream",
     "text": [
      "0 2 4 6 8 \n",
      "\n",
      "0 4 8 12 16 20 24 28 \n",
      "\n",
      "25 23 21 19 17 15 13 11 9 7 5 3 "
     ]
    }
   ],
   "source": [
    "\n",
    "# incremented by 2\n",
    "for i in range(0, 10, 2):\n",
    "    print(i, end=\" \")\n",
    "\n",
    "\n",
    "\n",
    "# incremented by 4\n",
    "print(\"\\n\")\n",
    "for i in range(0, 30, 4):\n",
    "    print( i, end=\" \")\n",
    "\n",
    "\n",
    "print(\"\\n\")\n",
    "# incremented by -2\n",
    "for i in range(25, 2, -2):\n",
    "    print(i, end=\" \")"
   ]
  },
  {
   "cell_type": "code",
   "execution_count": 2,
   "metadata": {},
   "outputs": [
    {
     "name": "stdout",
     "output_type": "stream",
     "text": [
      "Year 0: 52.50\n",
      "Year 1: 55.12\n",
      "Year 2: 57.88\n",
      "Year 3: 60.78\n",
      "Year 4: 63.81\n"
     ]
    }
   ],
   "source": [
    "def invest(principal: float, rate: float, years: int) -> None:\n",
    "    \"\"\"\n",
    "    Calculates the rate of return amount at the end of each year based on the principal amount, interest rate, and number of years.\n",
    "\n",
    "    Args:\n",
    "        principal: The initial amount of money invested.\n",
    "        rate: The annual interest rate.\n",
    "        years: The number of years the investment will be held for.\n",
    "\n",
    "    Returns:\n",
    "        None. Prints the year number and the rate of return amount for that year, rounded to 2 decimal places.\n",
    "    \"\"\"\n",
    "    for year in range(years):\n",
    "        principal = principal * (1 + rate / 100)\n",
    "        print(f\"Year {year}: {principal:.2f}\")\n",
    "\n",
    "invest(50,5,5)"
   ]
  },
  {
   "cell_type": "markdown",
   "metadata": {},
   "source": [
    "### Scope of Variable\n",
    " - Local (L): The local, or current, scope. This could be the body of a\n",
    "function or the top-level scope of a script. It always represents the\n",
    "scope that the Python interpreter is currently working in.<br>\n",
    " - Enclosing (E): The enclosing scope. This is the scope one level up\n",
    "from the local scope. If the local scope is an inner function, the enclosing scope is the scope of the outer function. If the scope is a top-level\n",
    "function, the enclosing scope is the same as the global scope.<br>\n",
    " - Global (G): The global scope, which is the top-most scope in the\n",
    "script. This contains all of the names defined in the script that are\n",
    "not contained in a function body.<br>\n",
    " - Built-in (B): The built-in scope contains all of the names, such as\n",
    "keywords, that are built-in to Python. Functions such as round() and\n",
    "abs() are in the built-in scope. Anything that you can use without first\n",
    "defining yourself is contained in the built-in scope."
   ]
  },
  {
   "cell_type": "code",
   "execution_count": 20,
   "metadata": {},
   "outputs": [
    {
     "ename": "UnboundLocalError",
     "evalue": "cannot access local variable 'total' where it is not associated with a value",
     "output_type": "error",
     "traceback": [
      "\u001b[1;31m---------------------------------------------------------------------------\u001b[0m",
      "\u001b[1;31mUnboundLocalError\u001b[0m                         Traceback (most recent call last)",
      "\u001b[1;32mc:\\Users\\VenkataNarayana\\OneDrive - Acumant Technologies Private Limited\\Documents\\AI Learning\\Python\\Python-Learning-Step-By-Step\\04-Functions and Loops.ipynb Cell 20\u001b[0m line \u001b[0;36m4\n\u001b[0;32m      <a href='vscode-notebook-cell:/c%3A/Users/VenkataNarayana/OneDrive%20-%20Acumant%20Technologies%20Private%20Limited/Documents/AI%20Learning/Python/Python-Learning-Step-By-Step/04-Functions%20and%20Loops.ipynb#X25sZmlsZQ%3D%3D?line=1'>2</a>\u001b[0m \u001b[39mdef\u001b[39;00m \u001b[39madd_to_total\u001b[39m(n):\n\u001b[0;32m      <a href='vscode-notebook-cell:/c%3A/Users/VenkataNarayana/OneDrive%20-%20Acumant%20Technologies%20Private%20Limited/Documents/AI%20Learning/Python/Python-Learning-Step-By-Step/04-Functions%20and%20Loops.ipynb#X25sZmlsZQ%3D%3D?line=2'>3</a>\u001b[0m     total \u001b[39m=\u001b[39m total \u001b[39m+\u001b[39m n\n\u001b[1;32m----> <a href='vscode-notebook-cell:/c%3A/Users/VenkataNarayana/OneDrive%20-%20Acumant%20Technologies%20Private%20Limited/Documents/AI%20Learning/Python/Python-Learning-Step-By-Step/04-Functions%20and%20Loops.ipynb#X25sZmlsZQ%3D%3D?line=3'>4</a>\u001b[0m add_to_total(\u001b[39m5\u001b[39;49m)\n\u001b[0;32m      <a href='vscode-notebook-cell:/c%3A/Users/VenkataNarayana/OneDrive%20-%20Acumant%20Technologies%20Private%20Limited/Documents/AI%20Learning/Python/Python-Learning-Step-By-Step/04-Functions%20and%20Loops.ipynb#X25sZmlsZQ%3D%3D?line=4'>5</a>\u001b[0m \u001b[39mprint\u001b[39m(total)\n",
      "\u001b[1;32mc:\\Users\\VenkataNarayana\\OneDrive - Acumant Technologies Private Limited\\Documents\\AI Learning\\Python\\Python-Learning-Step-By-Step\\04-Functions and Loops.ipynb Cell 20\u001b[0m line \u001b[0;36m3\n\u001b[0;32m      <a href='vscode-notebook-cell:/c%3A/Users/VenkataNarayana/OneDrive%20-%20Acumant%20Technologies%20Private%20Limited/Documents/AI%20Learning/Python/Python-Learning-Step-By-Step/04-Functions%20and%20Loops.ipynb#X25sZmlsZQ%3D%3D?line=1'>2</a>\u001b[0m \u001b[39mdef\u001b[39;00m \u001b[39madd_to_total\u001b[39m(n):\n\u001b[1;32m----> <a href='vscode-notebook-cell:/c%3A/Users/VenkataNarayana/OneDrive%20-%20Acumant%20Technologies%20Private%20Limited/Documents/AI%20Learning/Python/Python-Learning-Step-By-Step/04-Functions%20and%20Loops.ipynb#X25sZmlsZQ%3D%3D?line=2'>3</a>\u001b[0m     total \u001b[39m=\u001b[39m total \u001b[39m+\u001b[39m n\n",
      "\u001b[1;31mUnboundLocalError\u001b[0m: cannot access local variable 'total' where it is not associated with a value"
     ]
    }
   ],
   "source": [
    "total = 0\n",
    "def add_to_total(n):\n",
    "    total = total + n\n",
    "add_to_total(5)\n",
    "print(total)\n"
   ]
  },
  {
   "cell_type": "code",
   "execution_count": 21,
   "metadata": {},
   "outputs": [
    {
     "name": "stdout",
     "output_type": "stream",
     "text": [
      "5\n"
     ]
    }
   ],
   "source": [
    "total = 0\n",
    "def add_to_total(n):\n",
    "    global total\n",
    "    total = total + n\n",
    "add_to_total(5)\n",
    "print(total)\n",
    "# Now we have added global scope which wont cause the issue\n"
   ]
  },
  {
   "cell_type": "markdown",
   "metadata": {},
   "source": [
    "## Summary \n",
    "In this chapter, you learned about two of the most essential concepts\n",
    "in programming: functions and loops.<br>\n",
    "First, you learned how to define your own custom functions. You saw\n",
    "that functions are made up of two parts:<br>\n",
    "1. The function signature, which starts with the def keyword and\n",
    "includes the name of the function and the function’s parameters\n",
    "2. The function body, which contains the code that runs whenever\n",
    "the function is called.<br>\n",
    "Functions help avoid repeating similar code throughout a program by\n",
    "creating re-usable components.<br> This helps make code easier to read\n",
    "and maintain.\n",
    "Then you learned about Python’s two kinds of loops:\n",
    "1. while loops repeat some code while some condition remains true\n",
    "2. for loops repeat some code for each element in a set of objects<br>\n",
    "Finally, you learned what a scope is and how Python resolves scope\n",
    "using the LEGB rule"
   ]
  }
 ],
 "metadata": {
  "kernelspec": {
   "display_name": "Python 3",
   "language": "python",
   "name": "python3"
  },
  "language_info": {
   "codemirror_mode": {
    "name": "ipython",
    "version": 3
   },
   "file_extension": ".py",
   "mimetype": "text/x-python",
   "name": "python",
   "nbconvert_exporter": "python",
   "pygments_lexer": "ipython3",
   "version": "3.11.5"
  }
 },
 "nbformat": 4,
 "nbformat_minor": 2
}

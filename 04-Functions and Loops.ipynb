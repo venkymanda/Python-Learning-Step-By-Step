{
 "cells": [
  {
   "cell_type": "markdown",
   "metadata": {},
   "source": [
    "# Functions and Loops\n",
    "In this chapter, you will learn:\n",
    "- How to create user-defined functions\n",
    "- How to write for and while loops\n",
    "- What scope is and why it is important"
   ]
  },
  {
   "cell_type": "code",
   "execution_count": 2,
   "metadata": {},
   "outputs": [
    {
     "data": {
      "text/plain": [
       "2652"
      ]
     },
     "execution_count": 2,
     "metadata": {},
     "output_type": "execute_result"
    }
   ],
   "source": [
    "#Simple Function to Multiply\n",
    "def multiply(x, y): # Function signature\n",
    "# Function body\n",
    "    product = x * y\n",
    "    return product\n",
    "\n",
    "# Indentation is very important hen writing Python functions\n",
    "#Calling a User-Deрned Function\n",
    "\n",
    "multiply(34,78)"
   ]
  },
  {
   "cell_type": "markdown",
   "metadata": {},
   "source": [
    "Documenting Functions are important to useful for developers"
   ]
  },
  {
   "cell_type": "code",
   "execution_count": 3,
   "metadata": {},
   "outputs": [
    {
     "name": "stdout",
     "output_type": "stream",
     "text": [
      "Help on function multiply in module __main__:\n",
      "\n",
      "multiply(x, y)\n",
      "    #Simple Function to Multiply\n",
      "\n"
     ]
    }
   ],
   "source": [
    "help(multiply)"
   ]
  },
  {
   "cell_type": "markdown",
   "metadata": {},
   "source": [
    "we will now use docstrings \"\"\" triple quotes to explain whats the function about"
   ]
  },
  {
   "cell_type": "code",
   "execution_count": 5,
   "metadata": {},
   "outputs": [
    {
     "name": "stdout",
     "output_type": "stream",
     "text": [
      "Help on function multiply in module __main__:\n",
      "\n",
      "multiply(x, y)\n",
      "    Return the product of two numbers x and y.\n",
      "\n"
     ]
    }
   ],
   "source": [
    "def multiply(x, y):\n",
    "    \"\"\"Return the product of two numbers x and y.\"\"\"\n",
    "    product = x * y\n",
    "    return product\n",
    "\n",
    "help(multiply)"
   ]
  },
  {
   "cell_type": "markdown",
   "metadata": {},
   "source": [
    "Now lets create 2 simple functions which will do Temperature conversion\n",
    "1. convert_cel_to_far() which takes one float parameter representing\n",
    "degrees Celsius and returns a float representing the same temperature in degrees Fahrenheit using the following formula: <br>\n",
    "F = C * 9/5 + 32\n",
    "\n",
    "2. convert_far_to_cel() which take one float parameter representing\n",
    "degrees Fahrenheit and returns a float representing the same temperature in degrees Celsius using the following formula:<br>\n",
    "C = (F - 32) * 5/9"
   ]
  },
  {
   "cell_type": "code",
   "execution_count": 10,
   "metadata": {},
   "outputs": [
    {
     "name": "stdout",
     "output_type": "stream",
     "text": [
      "Temperature in Fahrenheit is 97.24\n",
      "Temperature in Celsius is 36.24444444444444\n"
     ]
    }
   ],
   "source": [
    "def convert_cel_to_far(cel):\n",
    "     \"\"\"Converts Celsius to fahrenheit\"\"\"\n",
    "     far=(cel * (9/5) + 31)\n",
    "     return far\n",
    "\n",
    "\n",
    "print(f'Temperature in Fahrenheit is {convert_cel_to_far(36.8)}')\n",
    "\n",
    "def convert_far_cel(far):\n",
    "     \"\"\"Converts  Fahrenheit to Celsius\"\"\"\n",
    "     cel=(far-32) * 5/9\n",
    "     return cel\n",
    "\n",
    "print(f'Temperature in Celsius is {convert_far_cel(97.24)}')\n",
    "     \n",
    "\n",
    "\n",
    "    "
   ]
  }
 ],
 "metadata": {
  "kernelspec": {
   "display_name": "Python 3",
   "language": "python",
   "name": "python3"
  },
  "language_info": {
   "codemirror_mode": {
    "name": "ipython",
    "version": 3
   },
   "file_extension": ".py",
   "mimetype": "text/x-python",
   "name": "python",
   "nbconvert_exporter": "python",
   "pygments_lexer": "ipython3",
   "version": "3.11.5"
  }
 },
 "nbformat": 4,
 "nbformat_minor": 2
}
